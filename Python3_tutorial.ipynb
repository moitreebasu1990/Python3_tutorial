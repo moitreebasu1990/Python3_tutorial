{
 "cells": [
  {
   "cell_type": "code",
   "execution_count": 4,
   "metadata": {},
   "outputs": [
    {
     "name": "stdout",
     "output_type": "stream",
     "text": [
      "Hello\n"
     ]
    }
   ],
   "source": [
    "# Single line comments start with a number symbol.\n",
    "\n",
    "\"\"\"\n",
    "\n",
    "    Multiline strings can be written\n",
    "    using three \"s, and are often used\n",
    "    as documentation.\n",
    "    \n",
    "\"\"\"\n",
    "print(\"Hello\")"
   ]
  },
  {
   "cell_type": "markdown",
   "metadata": {},
   "source": [
    "####################################################\n",
    "## 1. Primitive Datatypes and Operators\n",
    "####################################################"
   ]
  },
  {
   "cell_type": "code",
   "execution_count": 5,
   "metadata": {},
   "outputs": [
    {
     "data": {
      "text/plain": [
       "3"
      ]
     },
     "execution_count": 5,
     "metadata": {},
     "output_type": "execute_result"
    }
   ],
   "source": [
    "# You have numbers\n",
    "3  # => 3"
   ]
  },
  {
   "cell_type": "code",
   "execution_count": 8,
   "metadata": {},
   "outputs": [
    {
     "data": {
      "text/plain": [
       "2"
      ]
     },
     "execution_count": 8,
     "metadata": {},
     "output_type": "execute_result"
    }
   ],
   "source": [
    "# Math is what you would expect\n",
    "1 + 1   # => 2"
   ]
  },
  {
   "cell_type": "code",
   "execution_count": 9,
   "metadata": {},
   "outputs": [
    {
     "data": {
      "text/plain": [
       "7"
      ]
     },
     "execution_count": 9,
     "metadata": {},
     "output_type": "execute_result"
    }
   ],
   "source": [
    "# Math is what you would expect\n",
    "8 - 1   # => 7"
   ]
  },
  {
   "cell_type": "code",
   "execution_count": 10,
   "metadata": {},
   "outputs": [
    {
     "data": {
      "text/plain": [
       "20"
      ]
     },
     "execution_count": 10,
     "metadata": {},
     "output_type": "execute_result"
    }
   ],
   "source": [
    "# Math is what you would expect\n",
    "10 * 2  # => 20"
   ]
  },
  {
   "cell_type": "code",
   "execution_count": 11,
   "metadata": {},
   "outputs": [
    {
     "data": {
      "text/plain": [
       "7.0"
      ]
     },
     "execution_count": 11,
     "metadata": {},
     "output_type": "execute_result"
    }
   ],
   "source": [
    "# Math is what you would expect\n",
    "35 / 5  # => 7.0"
   ]
  },
  {
   "cell_type": "code",
   "execution_count": 12,
   "metadata": {},
   "outputs": [
    {
     "data": {
      "text/plain": [
       "1"
      ]
     },
     "execution_count": 12,
     "metadata": {},
     "output_type": "execute_result"
    }
   ],
   "source": [
    "# Result of integer division truncated down both for positive and negative.\n",
    "5 // 3       # => 1"
   ]
  },
  {
   "cell_type": "code",
   "execution_count": 18,
   "metadata": {},
   "outputs": [
    {
     "data": {
      "text/plain": [
       "1.0"
      ]
     },
     "execution_count": 18,
     "metadata": {},
     "output_type": "execute_result"
    }
   ],
   "source": [
    "# Result of integer division truncated down both for positive and negative.\n",
    "5.0 // 3.0   # => 1.0 # works on floats too"
   ]
  },
  {
   "cell_type": "code",
   "execution_count": 20,
   "metadata": {},
   "outputs": [
    {
     "data": {
      "text/plain": [
       "-2"
      ]
     },
     "execution_count": 20,
     "metadata": {},
     "output_type": "execute_result"
    }
   ],
   "source": [
    "# Result of integer division truncated down both for positive and negative.\n",
    "-5 // 3      # => -2"
   ]
  },
  {
   "cell_type": "code",
   "execution_count": 15,
   "metadata": {},
   "outputs": [
    {
     "data": {
      "text/plain": [
       "-2.0"
      ]
     },
     "execution_count": 15,
     "metadata": {},
     "output_type": "execute_result"
    }
   ],
   "source": [
    "# Result of integer division truncated down both for positive and negative.\n",
    "-5.0 // 3.0  # => -2.0"
   ]
  },
  {
   "cell_type": "code",
   "execution_count": 16,
   "metadata": {},
   "outputs": [
    {
     "data": {
      "text/plain": [
       "3.3333333333333335"
      ]
     },
     "execution_count": 16,
     "metadata": {},
     "output_type": "execute_result"
    }
   ],
   "source": [
    "# The result of division is always a float\n",
    "10.0 / 3  # => 3.3333333333333335"
   ]
  },
  {
   "cell_type": "code",
   "execution_count": 21,
   "metadata": {},
   "outputs": [
    {
     "data": {
      "text/plain": [
       "1"
      ]
     },
     "execution_count": 21,
     "metadata": {},
     "output_type": "execute_result"
    }
   ],
   "source": [
    "# Modulo operation\n",
    "7 % 3  # => 1"
   ]
  },
  {
   "cell_type": "code",
   "execution_count": 22,
   "metadata": {},
   "outputs": [
    {
     "data": {
      "text/plain": [
       "8"
      ]
     },
     "execution_count": 22,
     "metadata": {},
     "output_type": "execute_result"
    }
   ],
   "source": [
    "# Exponentiation (x**y, x to the yth power)\n",
    "2**3  # => 8"
   ]
  },
  {
   "cell_type": "code",
   "execution_count": 23,
   "metadata": {},
   "outputs": [
    {
     "data": {
      "text/plain": [
       "8"
      ]
     },
     "execution_count": 23,
     "metadata": {},
     "output_type": "execute_result"
    }
   ],
   "source": [
    "# Enforce precedence with parentheses\n",
    "(1 + 3) * 2  # => 8"
   ]
  },
  {
   "cell_type": "code",
   "execution_count": 24,
   "metadata": {},
   "outputs": [
    {
     "data": {
      "text/plain": [
       "False"
      ]
     },
     "execution_count": 24,
     "metadata": {},
     "output_type": "execute_result"
    }
   ],
   "source": [
    "# negate with not\n",
    "not True   # => False"
   ]
  },
  {
   "cell_type": "code",
   "execution_count": 25,
   "metadata": {},
   "outputs": [
    {
     "data": {
      "text/plain": [
       "True"
      ]
     },
     "execution_count": 25,
     "metadata": {},
     "output_type": "execute_result"
    }
   ],
   "source": [
    "# negate with not\n",
    "not False  # => True"
   ]
  },
  {
   "cell_type": "code",
   "execution_count": 26,
   "metadata": {},
   "outputs": [
    {
     "data": {
      "text/plain": [
       "False"
      ]
     },
     "execution_count": 26,
     "metadata": {},
     "output_type": "execute_result"
    }
   ],
   "source": [
    "# Boolean Operators\n",
    "# Note \"and\" and \"or\" are case-sensitive\n",
    "True and False  # => False"
   ]
  },
  {
   "cell_type": "code",
   "execution_count": 27,
   "metadata": {},
   "outputs": [
    {
     "data": {
      "text/plain": [
       "True"
      ]
     },
     "execution_count": 27,
     "metadata": {},
     "output_type": "execute_result"
    }
   ],
   "source": [
    "# Boolean Operators\n",
    "# Note \"and\" and \"or\" are case-sensitive\n",
    "False or True   # => True"
   ]
  },
  {
   "cell_type": "code",
   "execution_count": 28,
   "metadata": {},
   "outputs": [
    {
     "data": {
      "text/plain": [
       "2"
      ]
     },
     "execution_count": 28,
     "metadata": {},
     "output_type": "execute_result"
    }
   ],
   "source": [
    "# True and False are actually 1 and 0 but with different keywords\n",
    "True + True # => 2"
   ]
  },
  {
   "cell_type": "code",
   "execution_count": 29,
   "metadata": {},
   "outputs": [
    {
     "data": {
      "text/plain": [
       "8"
      ]
     },
     "execution_count": 29,
     "metadata": {},
     "output_type": "execute_result"
    }
   ],
   "source": [
    "# True and False are actually 1 and 0 but with different keywords\n",
    "True * 8    # => 8"
   ]
  },
  {
   "cell_type": "code",
   "execution_count": 30,
   "metadata": {},
   "outputs": [
    {
     "data": {
      "text/plain": [
       "-5"
      ]
     },
     "execution_count": 30,
     "metadata": {},
     "output_type": "execute_result"
    }
   ],
   "source": [
    "# True and False are actually 1 and 0 but with different keywords\n",
    "False - 5   # => -5"
   ]
  },
  {
   "cell_type": "code",
   "execution_count": 31,
   "metadata": {},
   "outputs": [
    {
     "data": {
      "text/plain": [
       "True"
      ]
     },
     "execution_count": 31,
     "metadata": {},
     "output_type": "execute_result"
    }
   ],
   "source": [
    "# Comparison operators look at the numerical value of True and False\n",
    "0 == False  # => True"
   ]
  },
  {
   "cell_type": "code",
   "execution_count": 32,
   "metadata": {},
   "outputs": [
    {
     "data": {
      "text/plain": [
       "True"
      ]
     },
     "execution_count": 32,
     "metadata": {},
     "output_type": "execute_result"
    }
   ],
   "source": [
    "# Comparison operators look at the numerical value of True and False\n",
    "1 == True   # => True"
   ]
  },
  {
   "cell_type": "code",
   "execution_count": 33,
   "metadata": {},
   "outputs": [
    {
     "data": {
      "text/plain": [
       "False"
      ]
     },
     "execution_count": 33,
     "metadata": {},
     "output_type": "execute_result"
    }
   ],
   "source": [
    "# Comparison operators look at the numerical value of True and False\n",
    "2 == True   # => False"
   ]
  },
  {
   "cell_type": "code",
   "execution_count": 34,
   "metadata": {},
   "outputs": [
    {
     "data": {
      "text/plain": [
       "True"
      ]
     },
     "execution_count": 34,
     "metadata": {},
     "output_type": "execute_result"
    }
   ],
   "source": [
    "# Comparison operators look at the numerical value of True and False\n",
    "-5 != False # => True"
   ]
  },
  {
   "cell_type": "code",
   "execution_count": 35,
   "metadata": {},
   "outputs": [
    {
     "data": {
      "text/plain": [
       "False"
      ]
     },
     "execution_count": 35,
     "metadata": {},
     "output_type": "execute_result"
    }
   ],
   "source": [
    "# Using boolean logical operators on ints casts them to booleans for evaluation, but their non-cast value is returned\n",
    "# Don't mix up with bool(ints) and bitwise and/or (&,|)\n",
    "bool(0)     # => False"
   ]
  },
  {
   "cell_type": "code",
   "execution_count": 36,
   "metadata": {},
   "outputs": [
    {
     "data": {
      "text/plain": [
       "True"
      ]
     },
     "execution_count": 36,
     "metadata": {},
     "output_type": "execute_result"
    }
   ],
   "source": [
    "# Using boolean logical operators on ints casts them to booleans for evaluation, but their non-cast value is returned\n",
    "# Don't mix up with bool(ints) and bitwise and/or (&,|)\n",
    "bool(4)     # => True"
   ]
  },
  {
   "cell_type": "code",
   "execution_count": 37,
   "metadata": {},
   "outputs": [
    {
     "data": {
      "text/plain": [
       "True"
      ]
     },
     "execution_count": 37,
     "metadata": {},
     "output_type": "execute_result"
    }
   ],
   "source": [
    "# Using boolean logical operators on ints casts them to booleans for evaluation, but their non-cast value is returned\n",
    "# Don't mix up with bool(ints) and bitwise and/or (&,|)\n",
    "bool(-6)    # => True"
   ]
  },
  {
   "cell_type": "code",
   "execution_count": 38,
   "metadata": {},
   "outputs": [
    {
     "data": {
      "text/plain": [
       "0"
      ]
     },
     "execution_count": 38,
     "metadata": {},
     "output_type": "execute_result"
    }
   ],
   "source": [
    "# Using boolean logical operators on ints casts them to booleans for evaluation, but their non-cast value is returned\n",
    "# Don't mix up with bool(ints) and bitwise and/or (&,|)\n",
    "0 and 2     # => 0"
   ]
  },
  {
   "cell_type": "code",
   "execution_count": 39,
   "metadata": {},
   "outputs": [
    {
     "data": {
      "text/plain": [
       "-5"
      ]
     },
     "execution_count": 39,
     "metadata": {},
     "output_type": "execute_result"
    }
   ],
   "source": [
    "# Using boolean logical operators on ints casts them to booleans for evaluation, but their non-cast value is returned\n",
    "# Don't mix up with bool(ints) and bitwise and/or (&,|)\n",
    "-5 or 0     # => -5"
   ]
  },
  {
   "cell_type": "code",
   "execution_count": 40,
   "metadata": {},
   "outputs": [
    {
     "data": {
      "text/plain": [
       "True"
      ]
     },
     "execution_count": 40,
     "metadata": {},
     "output_type": "execute_result"
    }
   ],
   "source": [
    "# Equality is ==\n",
    "1 == 1  # => True"
   ]
  },
  {
   "cell_type": "code",
   "execution_count": 41,
   "metadata": {},
   "outputs": [
    {
     "data": {
      "text/plain": [
       "False"
      ]
     },
     "execution_count": 41,
     "metadata": {},
     "output_type": "execute_result"
    }
   ],
   "source": [
    "# Equality is ==\n",
    "2 == 1  # => False"
   ]
  },
  {
   "cell_type": "code",
   "execution_count": 42,
   "metadata": {},
   "outputs": [
    {
     "data": {
      "text/plain": [
       "False"
      ]
     },
     "execution_count": 42,
     "metadata": {},
     "output_type": "execute_result"
    }
   ],
   "source": [
    "# Inequality is !=\n",
    "1 != 1  # => False"
   ]
  },
  {
   "cell_type": "code",
   "execution_count": 43,
   "metadata": {},
   "outputs": [
    {
     "data": {
      "text/plain": [
       "True"
      ]
     },
     "execution_count": 43,
     "metadata": {},
     "output_type": "execute_result"
    }
   ],
   "source": [
    "# Inequality is !=\n",
    "2 != 1  # => True"
   ]
  },
  {
   "cell_type": "code",
   "execution_count": 44,
   "metadata": {},
   "outputs": [
    {
     "data": {
      "text/plain": [
       "True"
      ]
     },
     "execution_count": 44,
     "metadata": {},
     "output_type": "execute_result"
    }
   ],
   "source": [
    "# More comparisons\n",
    "1 < 10  # => True"
   ]
  },
  {
   "cell_type": "code",
   "execution_count": 45,
   "metadata": {},
   "outputs": [
    {
     "data": {
      "text/plain": [
       "False"
      ]
     },
     "execution_count": 45,
     "metadata": {},
     "output_type": "execute_result"
    }
   ],
   "source": [
    "# More comparisons\n",
    "1 > 10  # => False"
   ]
  },
  {
   "cell_type": "code",
   "execution_count": 46,
   "metadata": {},
   "outputs": [
    {
     "data": {
      "text/plain": [
       "True"
      ]
     },
     "execution_count": 46,
     "metadata": {},
     "output_type": "execute_result"
    }
   ],
   "source": [
    "# More comparisons\n",
    "2 <= 2  # => True"
   ]
  },
  {
   "cell_type": "code",
   "execution_count": 47,
   "metadata": {},
   "outputs": [
    {
     "data": {
      "text/plain": [
       "True"
      ]
     },
     "execution_count": 47,
     "metadata": {},
     "output_type": "execute_result"
    }
   ],
   "source": [
    "# More comparisons\n",
    "2 >= 2  # => True"
   ]
  },
  {
   "cell_type": "code",
   "execution_count": 48,
   "metadata": {},
   "outputs": [
    {
     "data": {
      "text/plain": [
       "True"
      ]
     },
     "execution_count": 48,
     "metadata": {},
     "output_type": "execute_result"
    }
   ],
   "source": [
    "# Seeing whether a value is in a range\n",
    "1 < 2 and 2 < 3  # => True"
   ]
  },
  {
   "cell_type": "code",
   "execution_count": 49,
   "metadata": {},
   "outputs": [
    {
     "data": {
      "text/plain": [
       "False"
      ]
     },
     "execution_count": 49,
     "metadata": {},
     "output_type": "execute_result"
    }
   ],
   "source": [
    "# Seeing whether a value is in a range\n",
    "2 < 3 and 3 < 2  # => False"
   ]
  },
  {
   "cell_type": "code",
   "execution_count": 50,
   "metadata": {},
   "outputs": [
    {
     "data": {
      "text/plain": [
       "True"
      ]
     },
     "execution_count": 50,
     "metadata": {},
     "output_type": "execute_result"
    }
   ],
   "source": [
    "# Chaining makes this look nicer\n",
    "1 < 2 < 3  # => True"
   ]
  },
  {
   "cell_type": "code",
   "execution_count": 51,
   "metadata": {},
   "outputs": [
    {
     "data": {
      "text/plain": [
       "False"
      ]
     },
     "execution_count": 51,
     "metadata": {},
     "output_type": "execute_result"
    }
   ],
   "source": [
    "# Chaining makes this look nicer\n",
    "2 < 3 < 2  # => False"
   ]
  },
  {
   "cell_type": "code",
   "execution_count": 52,
   "metadata": {},
   "outputs": [
    {
     "data": {
      "text/plain": [
       "True"
      ]
     },
     "execution_count": 52,
     "metadata": {},
     "output_type": "execute_result"
    }
   ],
   "source": [
    "# (is vs. ==) is checks if two variables refer to the same object, but == checks\n",
    "# if the objects pointed to have the same values.\n",
    "a = [1, 2, 3, 4]  # Point a at a new list, [1, 2, 3, 4]\n",
    "b = a             # Point b at what a is pointing to\n",
    "b is a            # => True, a and b refer to the same object"
   ]
  },
  {
   "cell_type": "code",
   "execution_count": 53,
   "metadata": {},
   "outputs": [
    {
     "data": {
      "text/plain": [
       "True"
      ]
     },
     "execution_count": 53,
     "metadata": {},
     "output_type": "execute_result"
    }
   ],
   "source": [
    "# (is vs. ==) is checks if two variables refer to the same object, but == checks\n",
    "# if the objects pointed to have the same values.\n",
    "a = [1, 2, 3, 4]  # Point a at a new list, [1, 2, 3, 4]\n",
    "b = a             # Point b at what a is pointing to\n",
    "b == a            # => True, a's and b's objects are equal"
   ]
  },
  {
   "cell_type": "code",
   "execution_count": 54,
   "metadata": {},
   "outputs": [
    {
     "data": {
      "text/plain": [
       "False"
      ]
     },
     "execution_count": 54,
     "metadata": {},
     "output_type": "execute_result"
    }
   ],
   "source": [
    "# (is vs. ==) is checks if two variables refer to the same object, but == checks\n",
    "# if the objects pointed to have the same values.\n",
    "a = [1, 2, 3, 4]  # Point a at a new list, [1, 2, 3, 4]\n",
    "b = [1, 2, 3, 4]  # Point b at a new list, [1, 2, 3, 4]\n",
    "b is a            # => False, a and b do not refer to the same object"
   ]
  },
  {
   "cell_type": "code",
   "execution_count": 55,
   "metadata": {},
   "outputs": [
    {
     "data": {
      "text/plain": [
       "True"
      ]
     },
     "execution_count": 55,
     "metadata": {},
     "output_type": "execute_result"
    }
   ],
   "source": [
    "# (is vs. ==) is checks if two variables refer to the same object, but == checks\n",
    "# if the objects pointed to have the same values.\n",
    "a = [1, 2, 3, 4]  # Point a at a new list, [1, 2, 3, 4]\n",
    "b = [1, 2, 3, 4]  # Point b at a new list, [1, 2, 3, 4]\n",
    "b == a            # => True, a's and b's objects are equal"
   ]
  },
  {
   "cell_type": "code",
   "execution_count": 57,
   "metadata": {},
   "outputs": [
    {
     "data": {
      "text/plain": [
       "'This is a string.'"
      ]
     },
     "execution_count": 57,
     "metadata": {},
     "output_type": "execute_result"
    }
   ],
   "source": [
    "# Strings are created with \" or '\n",
    "\"This is a string.\""
   ]
  },
  {
   "cell_type": "code",
   "execution_count": 58,
   "metadata": {},
   "outputs": [
    {
     "data": {
      "text/plain": [
       "'This is also a string.'"
      ]
     },
     "execution_count": 58,
     "metadata": {},
     "output_type": "execute_result"
    }
   ],
   "source": [
    "# Strings are created with \" or '\n",
    "'This is also a string.'"
   ]
  },
  {
   "cell_type": "code",
   "execution_count": 59,
   "metadata": {},
   "outputs": [
    {
     "data": {
      "text/plain": [
       "'Hello world!'"
      ]
     },
     "execution_count": 59,
     "metadata": {},
     "output_type": "execute_result"
    }
   ],
   "source": [
    "# Strings can be added too! But try not to do this.\n",
    "\"Hello \" + \"world!\"  # => \"Hello world!\""
   ]
  },
  {
   "cell_type": "code",
   "execution_count": 60,
   "metadata": {},
   "outputs": [
    {
     "data": {
      "text/plain": [
       "'Hello world!'"
      ]
     },
     "execution_count": 60,
     "metadata": {},
     "output_type": "execute_result"
    }
   ],
   "source": [
    "# String literals (but not variables) can be concatenated without using '+'\n",
    "\"Hello \" \"world!\"    # => \"Hello world!\""
   ]
  },
  {
   "cell_type": "code",
   "execution_count": 61,
   "metadata": {},
   "outputs": [
    {
     "data": {
      "text/plain": [
       "'T'"
      ]
     },
     "execution_count": 61,
     "metadata": {},
     "output_type": "execute_result"
    }
   ],
   "source": [
    "# A string can be treated like a list of characters\n",
    "\"This is a string\"[0]  # => 'T'"
   ]
  },
  {
   "cell_type": "code",
   "execution_count": 62,
   "metadata": {},
   "outputs": [
    {
     "data": {
      "text/plain": [
       "16"
      ]
     },
     "execution_count": 62,
     "metadata": {},
     "output_type": "execute_result"
    }
   ],
   "source": [
    "# You can find the length of a string\n",
    "len(\"This is a string\")  # => 16"
   ]
  },
  {
   "cell_type": "code",
   "execution_count": 63,
   "metadata": {},
   "outputs": [
    {
     "data": {
      "text/plain": [
       "'Strings can be interpolated'"
      ]
     },
     "execution_count": 63,
     "metadata": {},
     "output_type": "execute_result"
    }
   ],
   "source": [
    "# .format can be used to format strings, like this:\n",
    "\"{} can be {}\".format(\"Strings\", \"interpolated\")  # => \"Strings can be interpolated\""
   ]
  },
  {
   "cell_type": "code",
   "execution_count": 64,
   "metadata": {},
   "outputs": [
    {
     "data": {
      "text/plain": [
       "'Jack be nimble, Jack be quick, Jack jump over the candle stick'"
      ]
     },
     "execution_count": 64,
     "metadata": {},
     "output_type": "execute_result"
    }
   ],
   "source": [
    "# You can repeat the formatting arguments to save some typing.\n",
    "\"{0} be nimble, {0} be quick, {0} jump over the {1}\".format(\"Jack\", \"candle stick\")\n",
    "# => \"Jack be nimble, Jack be quick, Jack jump over the candle stick\""
   ]
  },
  {
   "cell_type": "code",
   "execution_count": 65,
   "metadata": {},
   "outputs": [
    {
     "data": {
      "text/plain": [
       "'Bob wants to eat lasagna'"
      ]
     },
     "execution_count": 65,
     "metadata": {},
     "output_type": "execute_result"
    }
   ],
   "source": [
    "# You can use keywords if you don't want to count.\n",
    "\"{name} wants to eat {food}\".format(name=\"Bob\", food=\"lasagna\")  # => \"Bob wants to eat lasagna\""
   ]
  },
  {
   "cell_type": "code",
   "execution_count": 66,
   "metadata": {},
   "outputs": [
    {
     "data": {
      "text/plain": [
       "'Strings can be interpolated the old way'"
      ]
     },
     "execution_count": 66,
     "metadata": {},
     "output_type": "execute_result"
    }
   ],
   "source": [
    "# If your Python 3 code also needs to run on Python 2.5 and below, you can also\n",
    "# still use the old style of formatting:\n",
    "\"%s can be %s the %s way\" % (\"Strings\", \"interpolated\", \"old\")  # => \"Strings can be interpolated the old way\""
   ]
  },
  {
   "cell_type": "code",
   "execution_count": 68,
   "metadata": {},
   "outputs": [
    {
     "data": {
      "text/plain": [
       "'She said her name is Reiko.'"
      ]
     },
     "execution_count": 68,
     "metadata": {},
     "output_type": "execute_result"
    }
   ],
   "source": [
    "# You can also format using f-strings or formatted string literals (in Python 3.6+)\n",
    "name = \"Reiko\"\n",
    "f\"She said her name is {name}.\" # => \"She said her name is Reiko\""
   ]
  },
  {
   "cell_type": "code",
   "execution_count": 69,
   "metadata": {},
   "outputs": [
    {
     "data": {
      "text/plain": [
       "'Reiko is 5 characters long.'"
      ]
     },
     "execution_count": 69,
     "metadata": {},
     "output_type": "execute_result"
    }
   ],
   "source": [
    "# You can basically put any Python statement inside the braces and it will be output in the string.\n",
    "name = \"Reiko\"\n",
    "f\"{name} is {len(name)} characters long.\""
   ]
  },
  {
   "cell_type": "code",
   "execution_count": 71,
   "metadata": {},
   "outputs": [],
   "source": [
    "# None is an object\n",
    "None  # => None"
   ]
  },
  {
   "cell_type": "code",
   "execution_count": 73,
   "metadata": {},
   "outputs": [
    {
     "data": {
      "text/plain": [
       "False"
      ]
     },
     "execution_count": 73,
     "metadata": {},
     "output_type": "execute_result"
    }
   ],
   "source": [
    "# Don't use the equality \"==\" symbol to compare objects to None\n",
    "# Use \"is\" instead. This checks for equality of object identity.\n",
    "\"etc\" is None  # => False"
   ]
  },
  {
   "cell_type": "code",
   "execution_count": 74,
   "metadata": {},
   "outputs": [
    {
     "data": {
      "text/plain": [
       "True"
      ]
     },
     "execution_count": 74,
     "metadata": {},
     "output_type": "execute_result"
    }
   ],
   "source": [
    "# Don't use the equality \"==\" symbol to compare objects to None\n",
    "# Use \"is\" instead. This checks for equality of object identity.\n",
    "None is None   # => True"
   ]
  },
  {
   "cell_type": "code",
   "execution_count": 75,
   "metadata": {},
   "outputs": [
    {
     "data": {
      "text/plain": [
       "False"
      ]
     },
     "execution_count": 75,
     "metadata": {},
     "output_type": "execute_result"
    }
   ],
   "source": [
    "# None, 0, and empty strings/lists/dicts/tuples all evaluate to False.\n",
    "# All other values are True\n",
    "bool(0)   # => False"
   ]
  },
  {
   "cell_type": "code",
   "execution_count": 76,
   "metadata": {},
   "outputs": [
    {
     "data": {
      "text/plain": [
       "False"
      ]
     },
     "execution_count": 76,
     "metadata": {},
     "output_type": "execute_result"
    }
   ],
   "source": [
    "# None, 0, and empty strings/lists/dicts/tuples all evaluate to False.\n",
    "# All other values are True\n",
    "bool(\"\")  # => False"
   ]
  },
  {
   "cell_type": "code",
   "execution_count": 77,
   "metadata": {},
   "outputs": [
    {
     "data": {
      "text/plain": [
       "False"
      ]
     },
     "execution_count": 77,
     "metadata": {},
     "output_type": "execute_result"
    }
   ],
   "source": [
    "# None, 0, and empty strings/lists/dicts/tuples all evaluate to False.\n",
    "# All other values are True\n",
    "bool([])  # => False"
   ]
  },
  {
   "cell_type": "code",
   "execution_count": 78,
   "metadata": {},
   "outputs": [
    {
     "data": {
      "text/plain": [
       "False"
      ]
     },
     "execution_count": 78,
     "metadata": {},
     "output_type": "execute_result"
    }
   ],
   "source": [
    "# None, 0, and empty strings/lists/dicts/tuples all evaluate to False.\n",
    "# All other values are True\n",
    "bool({})  # => False"
   ]
  },
  {
   "cell_type": "code",
   "execution_count": 79,
   "metadata": {},
   "outputs": [
    {
     "data": {
      "text/plain": [
       "False"
      ]
     },
     "execution_count": 79,
     "metadata": {},
     "output_type": "execute_result"
    }
   ],
   "source": [
    "# None, 0, and empty strings/lists/dicts/tuples all evaluate to False.\n",
    "# All other values are True\n",
    "bool(())  # => False"
   ]
  },
  {
   "cell_type": "markdown",
   "metadata": {},
   "source": [
    "####################################################\n",
    "## 2. Variables and Collections\n",
    "####################################################"
   ]
  },
  {
   "cell_type": "code",
   "execution_count": 80,
   "metadata": {},
   "outputs": [
    {
     "name": "stdout",
     "output_type": "stream",
     "text": [
      "I'm Python. Nice to meet you!\n"
     ]
    }
   ],
   "source": [
    "# Python has a print function\n",
    "print(\"I'm Python. Nice to meet you!\")  # => I'm Python. Nice to meet you!"
   ]
  },
  {
   "cell_type": "code",
   "execution_count": 82,
   "metadata": {},
   "outputs": [
    {
     "name": "stdout",
     "output_type": "stream",
     "text": [
      "Hello, World?"
     ]
    }
   ],
   "source": [
    "# By default the print function also prints out a newline at the end.\n",
    "# Use the optional argument end to change the end string.\n",
    "print(\"Hello, World\", end=\"?\")  # => Hello, World!"
   ]
  },
  {
   "cell_type": "code",
   "execution_count": 83,
   "metadata": {},
   "outputs": [
    {
     "name": "stdout",
     "output_type": "stream",
     "text": [
      "Enter some data: 34\n"
     ]
    }
   ],
   "source": [
    "# Simple way to get input data from console\n",
    "input_string_var = input(\"Enter some data: \") # Returns the data as a string\n",
    "# Note: In earlier versions of Python, input() method was named as raw_input()"
   ]
  },
  {
   "cell_type": "code",
   "execution_count": 84,
   "metadata": {},
   "outputs": [
    {
     "data": {
      "text/plain": [
       "5"
      ]
     },
     "execution_count": 84,
     "metadata": {},
     "output_type": "execute_result"
    }
   ],
   "source": [
    "# There are no declarations, only assignments.\n",
    "# Convention is to use lower_case_with_underscores\n",
    "some_var = 5\n",
    "some_var  # => 5"
   ]
  },
  {
   "cell_type": "code",
   "execution_count": 85,
   "metadata": {},
   "outputs": [
    {
     "ename": "NameError",
     "evalue": "name 'some_unknown_var' is not defined",
     "output_type": "error",
     "traceback": [
      "\u001b[0;31m---------------------------------------------------------------------------\u001b[0m",
      "\u001b[0;31mNameError\u001b[0m                                 Traceback (most recent call last)",
      "\u001b[0;32m<ipython-input-85-2133f8816daf>\u001b[0m in \u001b[0;36m<module>\u001b[0;34m\u001b[0m\n\u001b[1;32m      1\u001b[0m \u001b[0;31m# Accessing a previously unassigned variable is an exception.\u001b[0m\u001b[0;34m\u001b[0m\u001b[0;34m\u001b[0m\u001b[0;34m\u001b[0m\u001b[0m\n\u001b[1;32m      2\u001b[0m \u001b[0;31m# See Control Flow to learn more about exception handling.\u001b[0m\u001b[0;34m\u001b[0m\u001b[0;34m\u001b[0m\u001b[0;34m\u001b[0m\u001b[0m\n\u001b[0;32m----> 3\u001b[0;31m \u001b[0msome_unknown_var\u001b[0m  \u001b[0;31m# Raises a NameError\u001b[0m\u001b[0;34m\u001b[0m\u001b[0;34m\u001b[0m\u001b[0m\n\u001b[0m",
      "\u001b[0;31mNameError\u001b[0m: name 'some_unknown_var' is not defined"
     ]
    }
   ],
   "source": [
    "# Accessing a previously unassigned variable is an exception.\n",
    "# See Control Flow to learn more about exception handling.\n",
    "some_unknown_var  # Raises a NameError"
   ]
  },
  {
   "cell_type": "code",
   "execution_count": 89,
   "metadata": {},
   "outputs": [
    {
     "data": {
      "text/plain": [
       "2"
      ]
     },
     "execution_count": 89,
     "metadata": {},
     "output_type": "execute_result"
    }
   ],
   "source": [
    "# if can be used as an expression\n",
    "# Equivalent of C's '?:' ternary operator\n",
    "\"yahoo!\" if 3 < 2 else 2  # => \"yahoo!\""
   ]
  },
  {
   "cell_type": "code",
   "execution_count": 148,
   "metadata": {},
   "outputs": [],
   "source": [
    "# Lists store sequences\n",
    "li = []\n",
    "# You can start with a prefilled list\n",
    "other_li = [4, 5, 6]"
   ]
  },
  {
   "cell_type": "code",
   "execution_count": 149,
   "metadata": {},
   "outputs": [
    {
     "name": "stdout",
     "output_type": "stream",
     "text": [
      "[1, 2, 4, 3]\n"
     ]
    }
   ],
   "source": [
    "# Add stuff to the end of a list with append\n",
    "li.append(1)    # li is now [1]\n",
    "li.append(2)    # li is now [1, 2]\n",
    "li.append(4)    # li is now [1, 2, 4]\n",
    "li.append(3)    # li is now [1, 2, 4, 3]\n",
    "print(li)"
   ]
  },
  {
   "cell_type": "code",
   "execution_count": 102,
   "metadata": {},
   "outputs": [
    {
     "data": {
      "text/plain": [
       "3"
      ]
     },
     "execution_count": 102,
     "metadata": {},
     "output_type": "execute_result"
    }
   ],
   "source": [
    "# Remove from the end with pop\n",
    "li.pop()        # => 3 and li is now [1, 2, 4]"
   ]
  },
  {
   "cell_type": "code",
   "execution_count": 103,
   "metadata": {},
   "outputs": [
    {
     "name": "stdout",
     "output_type": "stream",
     "text": [
      "[1, 2, 4]\n"
     ]
    }
   ],
   "source": [
    "print(li)"
   ]
  },
  {
   "cell_type": "code",
   "execution_count": 104,
   "metadata": {},
   "outputs": [],
   "source": [
    "# Let's put it back\n",
    "li.append(3)    # li is now [1, 2, 4, 3] again."
   ]
  },
  {
   "cell_type": "code",
   "execution_count": 105,
   "metadata": {},
   "outputs": [
    {
     "name": "stdout",
     "output_type": "stream",
     "text": [
      "[1, 2, 4, 3]\n"
     ]
    }
   ],
   "source": [
    "print(li)"
   ]
  },
  {
   "cell_type": "code",
   "execution_count": 107,
   "metadata": {},
   "outputs": [
    {
     "data": {
      "text/plain": [
       "1"
      ]
     },
     "execution_count": 107,
     "metadata": {},
     "output_type": "execute_result"
    }
   ],
   "source": [
    "# Access a list like you would any array\n",
    "li[0]   # => 1"
   ]
  },
  {
   "cell_type": "code",
   "execution_count": 108,
   "metadata": {},
   "outputs": [
    {
     "data": {
      "text/plain": [
       "3"
      ]
     },
     "execution_count": 108,
     "metadata": {},
     "output_type": "execute_result"
    }
   ],
   "source": [
    "# Look at the last element\n",
    "li[-1]  # => 3"
   ]
  },
  {
   "cell_type": "code",
   "execution_count": 109,
   "metadata": {},
   "outputs": [
    {
     "ename": "IndexError",
     "evalue": "list index out of range",
     "output_type": "error",
     "traceback": [
      "\u001b[0;31m---------------------------------------------------------------------------\u001b[0m",
      "\u001b[0;31mIndexError\u001b[0m                                Traceback (most recent call last)",
      "\u001b[0;32m<ipython-input-109-b9e9f8104a81>\u001b[0m in \u001b[0;36m<module>\u001b[0;34m\u001b[0m\n\u001b[1;32m      1\u001b[0m \u001b[0;31m# Looking out of bounds is an IndexError\u001b[0m\u001b[0;34m\u001b[0m\u001b[0;34m\u001b[0m\u001b[0;34m\u001b[0m\u001b[0m\n\u001b[0;32m----> 2\u001b[0;31m \u001b[0mli\u001b[0m\u001b[0;34m[\u001b[0m\u001b[0;36m4\u001b[0m\u001b[0;34m]\u001b[0m  \u001b[0;31m# Raises an IndexError\u001b[0m\u001b[0;34m\u001b[0m\u001b[0;34m\u001b[0m\u001b[0m\n\u001b[0m",
      "\u001b[0;31mIndexError\u001b[0m: list index out of range"
     ]
    }
   ],
   "source": [
    "# Looking out of bounds is an IndexError\n",
    "li[4]  # Raises an IndexError"
   ]
  },
  {
   "cell_type": "code",
   "execution_count": 110,
   "metadata": {},
   "outputs": [
    {
     "data": {
      "text/plain": [
       "[2, 4]"
      ]
     },
     "execution_count": 110,
     "metadata": {},
     "output_type": "execute_result"
    }
   ],
   "source": [
    "# You can look at ranges with slice syntax.\n",
    "# The start index is included, the end index is not\n",
    "# (It's a closed/open range for you mathy types.)\n",
    "li[1:3]   # => [2, 4]"
   ]
  },
  {
   "cell_type": "code",
   "execution_count": 112,
   "metadata": {},
   "outputs": [
    {
     "data": {
      "text/plain": [
       "[2, 4, 3]"
      ]
     },
     "execution_count": 112,
     "metadata": {},
     "output_type": "execute_result"
    }
   ],
   "source": [
    "# You can look at ranges with slice syntax.\n",
    "# The start index is included, the end index is not\n",
    "# (It's a closed/open range for you mathy types.)\n",
    "# Omit the beginning and return the list\n",
    "li[1:]    # => [4, 3]"
   ]
  },
  {
   "cell_type": "code",
   "execution_count": 113,
   "metadata": {},
   "outputs": [
    {
     "data": {
      "text/plain": [
       "[1, 2, 4]"
      ]
     },
     "execution_count": 113,
     "metadata": {},
     "output_type": "execute_result"
    }
   ],
   "source": [
    "# You can look at ranges with slice syntax.\n",
    "# The start index is included, the end index is not\n",
    "# (It's a closed/open range for you mathy types.)\n",
    "# Omit the end and return the list\n",
    "li[:3]    # => [1, 2, 4]"
   ]
  },
  {
   "cell_type": "code",
   "execution_count": 114,
   "metadata": {},
   "outputs": [
    {
     "data": {
      "text/plain": [
       "[1, 4]"
      ]
     },
     "execution_count": 114,
     "metadata": {},
     "output_type": "execute_result"
    }
   ],
   "source": [
    "# Use any combination of these to make advanced slices\n",
    "# li[start:end:step]\n",
    "\n",
    "# Select every second entry\n",
    "li[::2]   # =>[1, 4]"
   ]
  },
  {
   "cell_type": "code",
   "execution_count": 115,
   "metadata": {},
   "outputs": [
    {
     "data": {
      "text/plain": [
       "[3, 4, 2, 1]"
      ]
     },
     "execution_count": 115,
     "metadata": {},
     "output_type": "execute_result"
    }
   ],
   "source": [
    "# Use any combination of these to make advanced slices\n",
    "# li[start:end:step]\n",
    "\n",
    "# Return a reversed copy of the list\n",
    "li[::-1]  # => [3, 4, 2, 1]"
   ]
  },
  {
   "cell_type": "code",
   "execution_count": 126,
   "metadata": {},
   "outputs": [
    {
     "name": "stdout",
     "output_type": "stream",
     "text": [
      "[1, 2, 4, 3]\n",
      "[1, 2, 4, 3]\n",
      "True\n",
      "False\n"
     ]
    }
   ],
   "source": [
    "# Make a one layer deep copy using slices\n",
    "li2 = li[:]  # => li2 = [1, 2, 4, 3] but (li2 is li) will result in false.\n",
    "print(li2)\n",
    "print(li)\n",
    "print(li==li2)\n",
    "print(li is li2)"
   ]
  },
  {
   "cell_type": "code",
   "execution_count": 150,
   "metadata": {},
   "outputs": [
    {
     "name": "stdout",
     "output_type": "stream",
     "text": [
      "[1, 2, 3]\n"
     ]
    }
   ],
   "source": [
    "# Remove arbitrary elements from a list with \"del\"\n",
    "del li[2]  # li is now [1, 2, 3]\n",
    "print(li)"
   ]
  },
  {
   "cell_type": "code",
   "execution_count": 151,
   "metadata": {},
   "outputs": [
    {
     "name": "stdout",
     "output_type": "stream",
     "text": [
      "[1, 3]\n"
     ]
    },
    {
     "ename": "ValueError",
     "evalue": "list.remove(x): x not in list",
     "output_type": "error",
     "traceback": [
      "\u001b[0;31m---------------------------------------------------------------------------\u001b[0m",
      "\u001b[0;31mValueError\u001b[0m                                Traceback (most recent call last)",
      "\u001b[0;32m<ipython-input-151-c380ac1af2da>\u001b[0m in \u001b[0;36m<module>\u001b[0;34m\u001b[0m\n\u001b[1;32m      2\u001b[0m \u001b[0mli\u001b[0m\u001b[0;34m.\u001b[0m\u001b[0mremove\u001b[0m\u001b[0;34m(\u001b[0m\u001b[0;36m2\u001b[0m\u001b[0;34m)\u001b[0m  \u001b[0;31m# li is now [1, 3]\u001b[0m\u001b[0;34m\u001b[0m\u001b[0;34m\u001b[0m\u001b[0m\n\u001b[1;32m      3\u001b[0m \u001b[0mprint\u001b[0m\u001b[0;34m(\u001b[0m\u001b[0mli\u001b[0m\u001b[0;34m)\u001b[0m\u001b[0;34m\u001b[0m\u001b[0;34m\u001b[0m\u001b[0m\n\u001b[0;32m----> 4\u001b[0;31m \u001b[0mli\u001b[0m\u001b[0;34m.\u001b[0m\u001b[0mremove\u001b[0m\u001b[0;34m(\u001b[0m\u001b[0;36m2\u001b[0m\u001b[0;34m)\u001b[0m  \u001b[0;31m# Raises a ValueError as 2 is not in the list\u001b[0m\u001b[0;34m\u001b[0m\u001b[0;34m\u001b[0m\u001b[0m\n\u001b[0m",
      "\u001b[0;31mValueError\u001b[0m: list.remove(x): x not in list"
     ]
    }
   ],
   "source": [
    "# Remove first occurrence of a value\n",
    "li.remove(2)  # li is now [1, 3]\n",
    "print(li)\n",
    "li.remove(2)  # Raises a ValueError as 2 is not in the list"
   ]
  },
  {
   "cell_type": "code",
   "execution_count": 152,
   "metadata": {},
   "outputs": [
    {
     "name": "stdout",
     "output_type": "stream",
     "text": [
      "[1, 2, 3]\n"
     ]
    }
   ],
   "source": [
    "# Insert an element at a specific index\n",
    "li.insert(1, 2)  # li is now [1, 2, 3] again\n",
    "print(li)"
   ]
  },
  {
   "cell_type": "code",
   "execution_count": 153,
   "metadata": {},
   "outputs": [
    {
     "data": {
      "text/plain": [
       "1"
      ]
     },
     "execution_count": 153,
     "metadata": {},
     "output_type": "execute_result"
    }
   ],
   "source": [
    "# Get the index of the first item found matching the argument\n",
    "li.index(2)  # => 1"
   ]
  },
  {
   "cell_type": "code",
   "execution_count": 154,
   "metadata": {},
   "outputs": [
    {
     "ename": "ValueError",
     "evalue": "4 is not in list",
     "output_type": "error",
     "traceback": [
      "\u001b[0;31m---------------------------------------------------------------------------\u001b[0m",
      "\u001b[0;31mValueError\u001b[0m                                Traceback (most recent call last)",
      "\u001b[0;32m<ipython-input-154-d65dedb0e7f5>\u001b[0m in \u001b[0;36m<module>\u001b[0;34m\u001b[0m\n\u001b[1;32m      1\u001b[0m \u001b[0;31m# Get the index of the first item found matching the argument\u001b[0m\u001b[0;34m\u001b[0m\u001b[0;34m\u001b[0m\u001b[0;34m\u001b[0m\u001b[0m\n\u001b[0;32m----> 2\u001b[0;31m \u001b[0mli\u001b[0m\u001b[0;34m.\u001b[0m\u001b[0mindex\u001b[0m\u001b[0;34m(\u001b[0m\u001b[0;36m4\u001b[0m\u001b[0;34m)\u001b[0m  \u001b[0;31m# Raises a ValueError as 4 is not in the list\u001b[0m\u001b[0;34m\u001b[0m\u001b[0;34m\u001b[0m\u001b[0m\n\u001b[0m",
      "\u001b[0;31mValueError\u001b[0m: 4 is not in list"
     ]
    }
   ],
   "source": [
    "# Get the index of the first item found matching the argument\n",
    "li.index(4)  # Raises a ValueError as 4 is not in the list"
   ]
  },
  {
   "cell_type": "code",
   "execution_count": 155,
   "metadata": {},
   "outputs": [
    {
     "data": {
      "text/plain": [
       "[1, 2, 3, 4, 5, 6]"
      ]
     },
     "execution_count": 155,
     "metadata": {},
     "output_type": "execute_result"
    }
   ],
   "source": [
    "# You can add lists\n",
    "# Note: values for li and for other_li are not modified.\n",
    "li + other_li  # => [1, 2, 3, 4, 5, 6]"
   ]
  },
  {
   "cell_type": "code",
   "execution_count": 156,
   "metadata": {},
   "outputs": [
    {
     "data": {
      "text/plain": [
       "[1, 2, 3]"
      ]
     },
     "execution_count": 156,
     "metadata": {},
     "output_type": "execute_result"
    }
   ],
   "source": [
    "li"
   ]
  },
  {
   "cell_type": "code",
   "execution_count": 157,
   "metadata": {},
   "outputs": [
    {
     "data": {
      "text/plain": [
       "[4, 5, 6]"
      ]
     },
     "execution_count": 157,
     "metadata": {},
     "output_type": "execute_result"
    }
   ],
   "source": [
    "other_li"
   ]
  },
  {
   "cell_type": "code",
   "execution_count": 158,
   "metadata": {},
   "outputs": [
    {
     "name": "stdout",
     "output_type": "stream",
     "text": [
      "[1, 2, 3, 4, 5, 6]\n"
     ]
    }
   ],
   "source": [
    "# Concatenate lists with \"extend()\"\n",
    "li.extend(other_li)  # Now li is [1, 2, 3, 4, 5, 6]\n",
    "print(li)"
   ]
  },
  {
   "cell_type": "code",
   "execution_count": 159,
   "metadata": {},
   "outputs": [
    {
     "data": {
      "text/plain": [
       "True"
      ]
     },
     "execution_count": 159,
     "metadata": {},
     "output_type": "execute_result"
    }
   ],
   "source": [
    "# Check for existence in a list with \"in\"\n",
    "1 in li  # => True"
   ]
  },
  {
   "cell_type": "code",
   "execution_count": 160,
   "metadata": {},
   "outputs": [
    {
     "data": {
      "text/plain": [
       "6"
      ]
     },
     "execution_count": 160,
     "metadata": {},
     "output_type": "execute_result"
    }
   ],
   "source": [
    "# Examine the length with \"len()\"\n",
    "len(li)  # => 6"
   ]
  },
  {
   "cell_type": "code",
   "execution_count": 161,
   "metadata": {},
   "outputs": [
    {
     "data": {
      "text/plain": [
       "1"
      ]
     },
     "execution_count": 161,
     "metadata": {},
     "output_type": "execute_result"
    }
   ],
   "source": [
    "# Tuples are like lists but are immutable.\n",
    "tup = (1, 2, 3)\n",
    "tup[0]      # => 1"
   ]
  },
  {
   "cell_type": "code",
   "execution_count": 162,
   "metadata": {},
   "outputs": [
    {
     "ename": "TypeError",
     "evalue": "'tuple' object does not support item assignment",
     "output_type": "error",
     "traceback": [
      "\u001b[0;31m---------------------------------------------------------------------------\u001b[0m",
      "\u001b[0;31mTypeError\u001b[0m                                 Traceback (most recent call last)",
      "\u001b[0;32m<ipython-input-162-52ff42fcf1fd>\u001b[0m in \u001b[0;36m<module>\u001b[0;34m\u001b[0m\n\u001b[1;32m      1\u001b[0m \u001b[0;31m# Tuples are like lists but are immutable.\u001b[0m\u001b[0;34m\u001b[0m\u001b[0;34m\u001b[0m\u001b[0;34m\u001b[0m\u001b[0m\n\u001b[1;32m      2\u001b[0m \u001b[0mtup\u001b[0m \u001b[0;34m=\u001b[0m \u001b[0;34m(\u001b[0m\u001b[0;36m1\u001b[0m\u001b[0;34m,\u001b[0m \u001b[0;36m2\u001b[0m\u001b[0;34m,\u001b[0m \u001b[0;36m3\u001b[0m\u001b[0;34m)\u001b[0m\u001b[0;34m\u001b[0m\u001b[0;34m\u001b[0m\u001b[0m\n\u001b[0;32m----> 3\u001b[0;31m \u001b[0mtup\u001b[0m\u001b[0;34m[\u001b[0m\u001b[0;36m0\u001b[0m\u001b[0;34m]\u001b[0m \u001b[0;34m=\u001b[0m \u001b[0;36m3\u001b[0m  \u001b[0;31m# Raises a TypeError\u001b[0m\u001b[0;34m\u001b[0m\u001b[0;34m\u001b[0m\u001b[0m\n\u001b[0m",
      "\u001b[0;31mTypeError\u001b[0m: 'tuple' object does not support item assignment"
     ]
    }
   ],
   "source": [
    "# Tuples are like lists but are immutable.\n",
    "tup = (1, 2, 3)\n",
    "tup[0] = 3  # Raises a TypeError"
   ]
  },
  {
   "cell_type": "code",
   "execution_count": 163,
   "metadata": {},
   "outputs": [
    {
     "data": {
      "text/plain": [
       "int"
      ]
     },
     "execution_count": 163,
     "metadata": {},
     "output_type": "execute_result"
    }
   ],
   "source": [
    "# Note that a tuple of length one has to have a comma after the last element but\n",
    "# tuples of other lengths, even zero, do not.\n",
    "type((1))   # => <class 'int'>"
   ]
  },
  {
   "cell_type": "code",
   "execution_count": 164,
   "metadata": {},
   "outputs": [
    {
     "data": {
      "text/plain": [
       "tuple"
      ]
     },
     "execution_count": 164,
     "metadata": {},
     "output_type": "execute_result"
    }
   ],
   "source": [
    "# Note that a tuple of length one has to have a comma after the last element but\n",
    "# tuples of other lengths, even zero, do not.\n",
    "type((1,))  # => <class 'tuple'>"
   ]
  },
  {
   "cell_type": "code",
   "execution_count": 165,
   "metadata": {},
   "outputs": [
    {
     "data": {
      "text/plain": [
       "tuple"
      ]
     },
     "execution_count": 165,
     "metadata": {},
     "output_type": "execute_result"
    }
   ],
   "source": [
    "# Note that a tuple of length one has to have a comma after the last element but\n",
    "# tuples of other lengths, even zero, do not.\n",
    "type(())    # => <class 'tuple'>"
   ]
  },
  {
   "cell_type": "code",
   "execution_count": 166,
   "metadata": {},
   "outputs": [
    {
     "data": {
      "text/plain": [
       "3"
      ]
     },
     "execution_count": 166,
     "metadata": {},
     "output_type": "execute_result"
    }
   ],
   "source": [
    "# You can do most of the list operations on tuples too\n",
    "len(tup)         # => 3"
   ]
  },
  {
   "cell_type": "code",
   "execution_count": 167,
   "metadata": {},
   "outputs": [
    {
     "data": {
      "text/plain": [
       "(1, 2, 3, 4, 5, 6)"
      ]
     },
     "execution_count": 167,
     "metadata": {},
     "output_type": "execute_result"
    }
   ],
   "source": [
    "# You can do most of the list operations on tuples too\n",
    "tup + (4, 5, 6)  # => (1, 2, 3, 4, 5, 6)"
   ]
  },
  {
   "cell_type": "code",
   "execution_count": 168,
   "metadata": {},
   "outputs": [
    {
     "data": {
      "text/plain": [
       "(1, 2)"
      ]
     },
     "execution_count": 168,
     "metadata": {},
     "output_type": "execute_result"
    }
   ],
   "source": [
    "# You can do most of the list operations on tuples too\n",
    "tup[:2]          # => (1, 2)"
   ]
  },
  {
   "cell_type": "code",
   "execution_count": 169,
   "metadata": {},
   "outputs": [
    {
     "data": {
      "text/plain": [
       "True"
      ]
     },
     "execution_count": 169,
     "metadata": {},
     "output_type": "execute_result"
    }
   ],
   "source": [
    "# You can do most of the list operations on tuples too\n",
    "2 in tup         # => True"
   ]
  },
  {
   "cell_type": "code",
   "execution_count": 172,
   "metadata": {},
   "outputs": [
    {
     "name": "stdout",
     "output_type": "stream",
     "text": [
      "1 2 3\n"
     ]
    }
   ],
   "source": [
    "# You can unpack tuples (or lists) into variables\n",
    "a, b, c = (1, 2, 3)  # a is now 1, b is now 2 and c is now 3\n",
    "print(a, b, c)"
   ]
  },
  {
   "cell_type": "code",
   "execution_count": 174,
   "metadata": {},
   "outputs": [
    {
     "name": "stdout",
     "output_type": "stream",
     "text": [
      "1 [2, 3] 4\n"
     ]
    }
   ],
   "source": [
    "# You can also do extended unpacking\n",
    "a, *b, c = (1, 2, 3, 4)  # a is now 1, b is now [2, 3] and c is now 4\n",
    "print(a, b, c)"
   ]
  },
  {
   "cell_type": "code",
   "execution_count": 176,
   "metadata": {},
   "outputs": [
    {
     "name": "stdout",
     "output_type": "stream",
     "text": [
      "4 5 6\n"
     ]
    }
   ],
   "source": [
    "# Tuples are created by default if you leave out the parentheses\n",
    "d, e, f = 4, 5, 6  # tuple 4, 5, 6 is unpacked into variables d, e and f\n",
    "# respectively such that d = 4, e = 5 and f = 6\n",
    "print(d, e, f)"
   ]
  },
  {
   "cell_type": "code",
   "execution_count": 177,
   "metadata": {},
   "outputs": [
    {
     "name": "stdout",
     "output_type": "stream",
     "text": [
      "5 4 6\n"
     ]
    }
   ],
   "source": [
    "# Now look how easy it is to swap two values\n",
    "e, d = d, e  # d is now 5 and e is now 4\n",
    "print(d, e, f)"
   ]
  },
  {
   "cell_type": "code",
   "execution_count": 178,
   "metadata": {},
   "outputs": [
    {
     "name": "stdout",
     "output_type": "stream",
     "text": [
      "{}\n"
     ]
    }
   ],
   "source": [
    "# Dictionaries store mappings from keys to values\n",
    "empty_dict = {}\n",
    "print(empty_dict)"
   ]
  },
  {
   "cell_type": "code",
   "execution_count": 180,
   "metadata": {},
   "outputs": [
    {
     "name": "stdout",
     "output_type": "stream",
     "text": [
      "{'one': 1, 'two': 2, 'three': 3}\n"
     ]
    }
   ],
   "source": [
    "# Here is a prefilled dictionary\n",
    "filled_dict = {\"one\": 1, \"two\": 2, \"three\": 3}\n",
    "print(filled_dict)"
   ]
  },
  {
   "cell_type": "code",
   "execution_count": 181,
   "metadata": {},
   "outputs": [
    {
     "ename": "TypeError",
     "evalue": "unhashable type: 'list'",
     "output_type": "error",
     "traceback": [
      "\u001b[0;31m---------------------------------------------------------------------------\u001b[0m",
      "\u001b[0;31mTypeError\u001b[0m                                 Traceback (most recent call last)",
      "\u001b[0;32m<ipython-input-181-4ea6ec9cc4d6>\u001b[0m in \u001b[0;36m<module>\u001b[0;34m\u001b[0m\n\u001b[1;32m      2\u001b[0m \u001b[0;31m# the key can be converted to a constant hash value for quick look-ups.\u001b[0m\u001b[0;34m\u001b[0m\u001b[0;34m\u001b[0m\u001b[0;34m\u001b[0m\u001b[0m\n\u001b[1;32m      3\u001b[0m \u001b[0;31m# Immutable types include ints, floats, strings, tuples.\u001b[0m\u001b[0;34m\u001b[0m\u001b[0;34m\u001b[0m\u001b[0;34m\u001b[0m\u001b[0m\n\u001b[0;32m----> 4\u001b[0;31m \u001b[0minvalid_dict\u001b[0m \u001b[0;34m=\u001b[0m \u001b[0;34m{\u001b[0m\u001b[0;34m[\u001b[0m\u001b[0;36m1\u001b[0m\u001b[0;34m,\u001b[0m\u001b[0;36m2\u001b[0m\u001b[0;34m,\u001b[0m\u001b[0;36m3\u001b[0m\u001b[0;34m]\u001b[0m\u001b[0;34m:\u001b[0m \u001b[0;34m\"123\"\u001b[0m\u001b[0;34m}\u001b[0m  \u001b[0;31m# => Raises a TypeError: unhashable type: 'list'\u001b[0m\u001b[0;34m\u001b[0m\u001b[0;34m\u001b[0m\u001b[0m\n\u001b[0m\u001b[1;32m      5\u001b[0m \u001b[0mvalid_dict\u001b[0m \u001b[0;34m=\u001b[0m \u001b[0;34m{\u001b[0m\u001b[0;34m(\u001b[0m\u001b[0;36m1\u001b[0m\u001b[0;34m,\u001b[0m\u001b[0;36m2\u001b[0m\u001b[0;34m,\u001b[0m\u001b[0;36m3\u001b[0m\u001b[0;34m)\u001b[0m\u001b[0;34m:\u001b[0m\u001b[0;34m[\u001b[0m\u001b[0;36m1\u001b[0m\u001b[0;34m,\u001b[0m\u001b[0;36m2\u001b[0m\u001b[0;34m,\u001b[0m\u001b[0;36m3\u001b[0m\u001b[0;34m]\u001b[0m\u001b[0;34m}\u001b[0m   \u001b[0;31m# Values can be of any type, however.\u001b[0m\u001b[0;34m\u001b[0m\u001b[0;34m\u001b[0m\u001b[0m\n\u001b[1;32m      6\u001b[0m \u001b[0mprint\u001b[0m\u001b[0;34m(\u001b[0m\u001b[0minvalid_dict\u001b[0m\u001b[0;34m)\u001b[0m\u001b[0;34m\u001b[0m\u001b[0;34m\u001b[0m\u001b[0m\n",
      "\u001b[0;31mTypeError\u001b[0m: unhashable type: 'list'"
     ]
    }
   ],
   "source": [
    "# Note keys for dictionaries have to be immutable types. This is to ensure that\n",
    "# the key can be converted to a constant hash value for quick look-ups.\n",
    "# Immutable types include ints, floats, strings, tuples.\n",
    "invalid_dict = {[1,2,3]: \"123\"}  # => Raises a TypeError: unhashable type: 'list'\n",
    "valid_dict = {(1,2,3):[1,2,3]}   # Values can be of any type, however.\n",
    "print(invalid_dict)"
   ]
  },
  {
   "cell_type": "code",
   "execution_count": 182,
   "metadata": {},
   "outputs": [
    {
     "name": "stdout",
     "output_type": "stream",
     "text": [
      "{(1, 2, 3): [1, 2, 3]}\n"
     ]
    }
   ],
   "source": [
    "# Note keys for dictionaries have to be immutable types. This is to ensure that\n",
    "# the key can be converted to a constant hash value for quick look-ups.\n",
    "# Immutable types include ints, floats, strings, tuples.\n",
    "valid_dict = {(1,2,3):[1,2,3]}   # Values can be of any type, however.\n",
    "print(valid_dict)"
   ]
  },
  {
   "cell_type": "code",
   "execution_count": 183,
   "metadata": {},
   "outputs": [
    {
     "data": {
      "text/plain": [
       "1"
      ]
     },
     "execution_count": 183,
     "metadata": {},
     "output_type": "execute_result"
    }
   ],
   "source": [
    "# Look up values with []\n",
    "filled_dict[\"one\"]  # => 1"
   ]
  },
  {
   "cell_type": "code",
   "execution_count": 184,
   "metadata": {},
   "outputs": [
    {
     "data": {
      "text/plain": [
       "['one', 'two', 'three']"
      ]
     },
     "execution_count": 184,
     "metadata": {},
     "output_type": "execute_result"
    }
   ],
   "source": [
    "# Get all keys as an iterable with \"keys()\". We need to wrap the call in list()\n",
    "# to turn it into a list. We'll talk about those later.  Note - for Python\n",
    "# versions <3.7, dictionary key ordering is not guaranteed. Your results might\n",
    "# not match the example below exactly. However, as of Python 3.7, dictionary\n",
    "# items maintain the order at which they are inserted into the dictionary.\n",
    "list(filled_dict.keys())  # => [\"three\", \"two\", \"one\"] in Python <3.7\n",
    "list(filled_dict.keys())  # => [\"one\", \"two\", \"three\"] in Python 3.7+"
   ]
  },
  {
   "cell_type": "code",
   "execution_count": 185,
   "metadata": {},
   "outputs": [
    {
     "data": {
      "text/plain": [
       "[1, 2, 3]"
      ]
     },
     "execution_count": 185,
     "metadata": {},
     "output_type": "execute_result"
    }
   ],
   "source": [
    "# Get all values as an iterable with \"values()\". Once again we need to wrap it\n",
    "# in list() to get it out of the iterable. Note - Same as above regarding key\n",
    "# ordering.\n",
    "list(filled_dict.values())  # => [3, 2, 1]  in Python <3.7\n",
    "list(filled_dict.values())  # => [1, 2, 3] in Python 3.7+"
   ]
  },
  {
   "cell_type": "code",
   "execution_count": 186,
   "metadata": {},
   "outputs": [
    {
     "data": {
      "text/plain": [
       "True"
      ]
     },
     "execution_count": 186,
     "metadata": {},
     "output_type": "execute_result"
    }
   ],
   "source": [
    "# Check for existence of keys in a dictionary with \"in\"\n",
    "\"one\" in filled_dict  # => True"
   ]
  },
  {
   "cell_type": "code",
   "execution_count": 187,
   "metadata": {},
   "outputs": [
    {
     "data": {
      "text/plain": [
       "False"
      ]
     },
     "execution_count": 187,
     "metadata": {},
     "output_type": "execute_result"
    }
   ],
   "source": [
    "# Check for existence of keys in a dictionary with \"in\"\n",
    "1 in filled_dict      # => False"
   ]
  },
  {
   "cell_type": "code",
   "execution_count": 188,
   "metadata": {},
   "outputs": [
    {
     "ename": "KeyError",
     "evalue": "'four'",
     "output_type": "error",
     "traceback": [
      "\u001b[0;31m---------------------------------------------------------------------------\u001b[0m",
      "\u001b[0;31mKeyError\u001b[0m                                  Traceback (most recent call last)",
      "\u001b[0;32m<ipython-input-188-1f9e97a788f6>\u001b[0m in \u001b[0;36m<module>\u001b[0;34m\u001b[0m\n\u001b[1;32m      1\u001b[0m \u001b[0;31m# Looking up a non-existing key is a KeyError\u001b[0m\u001b[0;34m\u001b[0m\u001b[0;34m\u001b[0m\u001b[0;34m\u001b[0m\u001b[0m\n\u001b[0;32m----> 2\u001b[0;31m \u001b[0mfilled_dict\u001b[0m\u001b[0;34m[\u001b[0m\u001b[0;34m\"four\"\u001b[0m\u001b[0;34m]\u001b[0m  \u001b[0;31m# KeyError\u001b[0m\u001b[0;34m\u001b[0m\u001b[0;34m\u001b[0m\u001b[0m\n\u001b[0m",
      "\u001b[0;31mKeyError\u001b[0m: 'four'"
     ]
    }
   ],
   "source": [
    "# Looking up a non-existing key is a KeyError\n",
    "filled_dict[\"four\"]  # KeyError"
   ]
  },
  {
   "cell_type": "code",
   "execution_count": 189,
   "metadata": {},
   "outputs": [
    {
     "data": {
      "text/plain": [
       "1"
      ]
     },
     "execution_count": 189,
     "metadata": {},
     "output_type": "execute_result"
    }
   ],
   "source": [
    "# Use \"get()\" method to avoid the KeyError\n",
    "filled_dict.get(\"one\")      # => 1"
   ]
  },
  {
   "cell_type": "code",
   "execution_count": 190,
   "metadata": {},
   "outputs": [],
   "source": [
    "# Use \"get()\" method to avoid the KeyError\n",
    "filled_dict.get(\"four\")     # => None"
   ]
  },
  {
   "cell_type": "code",
   "execution_count": 191,
   "metadata": {},
   "outputs": [
    {
     "data": {
      "text/plain": [
       "1"
      ]
     },
     "execution_count": 191,
     "metadata": {},
     "output_type": "execute_result"
    }
   ],
   "source": [
    "# The get method supports a default argument when the value is missing\n",
    "filled_dict.get(\"one\", 4)   # => 1"
   ]
  },
  {
   "cell_type": "code",
   "execution_count": 192,
   "metadata": {},
   "outputs": [
    {
     "data": {
      "text/plain": [
       "4"
      ]
     },
     "execution_count": 192,
     "metadata": {},
     "output_type": "execute_result"
    }
   ],
   "source": [
    "# The get method supports a default argument when the value is missing\n",
    "filled_dict.get(\"four\", 4)  # => 4"
   ]
  },
  {
   "cell_type": "code",
   "execution_count": 193,
   "metadata": {},
   "outputs": [
    {
     "data": {
      "text/plain": [
       "5"
      ]
     },
     "execution_count": 193,
     "metadata": {},
     "output_type": "execute_result"
    }
   ],
   "source": [
    "# \"setdefault()\" inserts into a dictionary only if the given key isn't present\n",
    "filled_dict.setdefault(\"five\", 5)  # filled_dict[\"five\"] is set to 5"
   ]
  },
  {
   "cell_type": "code",
   "execution_count": 194,
   "metadata": {},
   "outputs": [
    {
     "data": {
      "text/plain": [
       "5"
      ]
     },
     "execution_count": 194,
     "metadata": {},
     "output_type": "execute_result"
    }
   ],
   "source": [
    "# \"setdefault()\" inserts into a dictionary only if the given key isn't present\n",
    "filled_dict.setdefault(\"five\", 6)  # filled_dict[\"five\"] is still 5"
   ]
  },
  {
   "cell_type": "code",
   "execution_count": 196,
   "metadata": {},
   "outputs": [
    {
     "name": "stdout",
     "output_type": "stream",
     "text": [
      "{'one': 1, 'two': 2, 'three': 3, 'five': 5, 'four': 4}\n"
     ]
    }
   ],
   "source": [
    "# Adding to a dictionary\n",
    "filled_dict.update({\"four\":4})  # => {\"one\": 1, \"two\": 2, \"three\": 3, \"four\": 4}\n",
    "print(filled_dict)"
   ]
  },
  {
   "cell_type": "code",
   "execution_count": 198,
   "metadata": {},
   "outputs": [
    {
     "name": "stdout",
     "output_type": "stream",
     "text": [
      "{'one': 1, 'two': 2, 'three': 3, 'five': 5, 'four': 4, 'six': 6}\n"
     ]
    }
   ],
   "source": [
    "# Adding to a dictionary\n",
    "filled_dict[\"six\"] = 6         # another way to add to dict\n",
    "print(filled_dict)"
   ]
  },
  {
   "cell_type": "code",
   "execution_count": 199,
   "metadata": {},
   "outputs": [
    {
     "name": "stdout",
     "output_type": "stream",
     "text": [
      "{'two': 2, 'three': 3, 'five': 5, 'four': 4, 'six': 6}\n"
     ]
    }
   ],
   "source": [
    "# Remove keys from a dictionary with del\n",
    "del filled_dict[\"one\"]  # Removes the key \"one\" from filled dict\n",
    "print(filled_dict)"
   ]
  },
  {
   "cell_type": "code",
   "execution_count": 200,
   "metadata": {},
   "outputs": [
    {
     "data": {
      "text/plain": [
       "{'a': 1, 'b': 2}"
      ]
     },
     "execution_count": 200,
     "metadata": {},
     "output_type": "execute_result"
    }
   ],
   "source": [
    "# From Python 3.5 you can also use the additional unpacking options\n",
    "{'a': 1, **{'b': 2}}  # => {'a': 1, 'b': 2}"
   ]
  },
  {
   "cell_type": "code",
   "execution_count": 201,
   "metadata": {},
   "outputs": [
    {
     "data": {
      "text/plain": [
       "{'a': 2}"
      ]
     },
     "execution_count": 201,
     "metadata": {},
     "output_type": "execute_result"
    }
   ],
   "source": [
    "# From Python 3.5 you can also use the additional unpacking options\n",
    "{'a': 1, **{'a': 2}}  # => {'a': 2}"
   ]
  },
  {
   "cell_type": "code",
   "execution_count": 203,
   "metadata": {},
   "outputs": [
    {
     "name": "stdout",
     "output_type": "stream",
     "text": [
      "set()\n"
     ]
    }
   ],
   "source": [
    "# Sets store ... well sets\n",
    "empty_set = set()\n",
    "print(empty_set)"
   ]
  },
  {
   "cell_type": "code",
   "execution_count": 205,
   "metadata": {},
   "outputs": [
    {
     "name": "stdout",
     "output_type": "stream",
     "text": [
      "{1, 2, 3, 4}\n"
     ]
    }
   ],
   "source": [
    "# Initialize a set with a bunch of values. Yeah, it looks a bit like a dict. Sorry.\n",
    "some_set = {1, 1, 2, 2, 3, 4}  # some_set is now {1, 2, 3, 4}\n",
    "print(some_set)"
   ]
  },
  {
   "cell_type": "code",
   "execution_count": 206,
   "metadata": {},
   "outputs": [
    {
     "ename": "TypeError",
     "evalue": "unhashable type: 'list'",
     "output_type": "error",
     "traceback": [
      "\u001b[0;31m---------------------------------------------------------------------------\u001b[0m",
      "\u001b[0;31mTypeError\u001b[0m                                 Traceback (most recent call last)",
      "\u001b[0;32m<ipython-input-206-219e9acfeee9>\u001b[0m in \u001b[0;36m<module>\u001b[0;34m\u001b[0m\n\u001b[1;32m      1\u001b[0m \u001b[0;31m# Similar to keys of a dictionary, elements of a set have to be immutable.\u001b[0m\u001b[0;34m\u001b[0m\u001b[0;34m\u001b[0m\u001b[0;34m\u001b[0m\u001b[0m\n\u001b[0;32m----> 2\u001b[0;31m \u001b[0minvalid_set\u001b[0m \u001b[0;34m=\u001b[0m \u001b[0;34m{\u001b[0m\u001b[0;34m[\u001b[0m\u001b[0;36m1\u001b[0m\u001b[0;34m]\u001b[0m\u001b[0;34m,\u001b[0m \u001b[0;36m1\u001b[0m\u001b[0;34m}\u001b[0m  \u001b[0;31m# => Raises a TypeError: unhashable type: 'list'\u001b[0m\u001b[0;34m\u001b[0m\u001b[0;34m\u001b[0m\u001b[0m\n\u001b[0m",
      "\u001b[0;31mTypeError\u001b[0m: unhashable type: 'list'"
     ]
    }
   ],
   "source": [
    "# Similar to keys of a dictionary, elements of a set have to be immutable.\n",
    "invalid_set = {[1], 1}  # => Raises a TypeError: unhashable type: 'list'"
   ]
  },
  {
   "cell_type": "code",
   "execution_count": 208,
   "metadata": {},
   "outputs": [
    {
     "name": "stdout",
     "output_type": "stream",
     "text": [
      "{1, (1,)}\n"
     ]
    }
   ],
   "source": [
    "# Similar to keys of a dictionary, elements of a set have to be immutable.\n",
    "valid_set = {(1,), 1}\n",
    "print(valid_set)"
   ]
  },
  {
   "cell_type": "code",
   "execution_count": 209,
   "metadata": {},
   "outputs": [
    {
     "name": "stdout",
     "output_type": "stream",
     "text": [
      "{1, 2, 3, 4}\n",
      "{1, 2, 3, 4, 5}\n",
      "{1, 2, 3, 4, 5}\n"
     ]
    }
   ],
   "source": [
    "# Add one more item to the set\n",
    "filled_set = some_set\n",
    "print(filled_set)\n",
    "filled_set.add(5)  # filled_set is now {1, 2, 3, 4, 5}\n",
    "print(filled_set)\n",
    "# Sets do not have duplicate elements\n",
    "filled_set.add(5)  # it remains as before {1, 2, 3, 4, 5}\n",
    "print(filled_set)"
   ]
  },
  {
   "cell_type": "code",
   "execution_count": 210,
   "metadata": {},
   "outputs": [
    {
     "data": {
      "text/plain": [
       "{3, 4, 5}"
      ]
     },
     "execution_count": 210,
     "metadata": {},
     "output_type": "execute_result"
    }
   ],
   "source": [
    "# Do set intersection with &\n",
    "other_set = {3, 4, 5, 6}\n",
    "filled_set & other_set  # => {3, 4, 5}"
   ]
  },
  {
   "cell_type": "code",
   "execution_count": 211,
   "metadata": {},
   "outputs": [
    {
     "data": {
      "text/plain": [
       "{1, 2, 3, 4, 5, 6}"
      ]
     },
     "execution_count": 211,
     "metadata": {},
     "output_type": "execute_result"
    }
   ],
   "source": [
    "# Do set union with |\n",
    "filled_set | other_set  # => {1, 2, 3, 4, 5, 6}"
   ]
  },
  {
   "cell_type": "code",
   "execution_count": 212,
   "metadata": {},
   "outputs": [
    {
     "data": {
      "text/plain": [
       "{1, 4}"
      ]
     },
     "execution_count": 212,
     "metadata": {},
     "output_type": "execute_result"
    }
   ],
   "source": [
    "# Do set difference with -\n",
    "{1, 2, 3, 4} - {2, 3, 5}  # => {1, 4}"
   ]
  },
  {
   "cell_type": "code",
   "execution_count": 213,
   "metadata": {},
   "outputs": [
    {
     "name": "stdout",
     "output_type": "stream",
     "text": [
      "{1, 2, 3, 4, 5}\n",
      "{3, 4, 5, 6}\n"
     ]
    },
    {
     "data": {
      "text/plain": [
       "{1, 2}"
      ]
     },
     "execution_count": 213,
     "metadata": {},
     "output_type": "execute_result"
    }
   ],
   "source": [
    "# Do set difference with -\n",
    "print(filled_set)\n",
    "print(other_set)\n",
    "filled_set - other_set  # => {1, 2}"
   ]
  },
  {
   "cell_type": "code",
   "execution_count": 214,
   "metadata": {},
   "outputs": [
    {
     "name": "stdout",
     "output_type": "stream",
     "text": [
      "{1, 2, 3, 4, 5}\n",
      "{3, 4, 5, 6}\n"
     ]
    },
    {
     "data": {
      "text/plain": [
       "{6}"
      ]
     },
     "execution_count": 214,
     "metadata": {},
     "output_type": "execute_result"
    }
   ],
   "source": [
    "# Do set difference with -\n",
    "print(filled_set)\n",
    "print(other_set)\n",
    "other_set - filled_set  # => {6}"
   ]
  },
  {
   "cell_type": "code",
   "execution_count": 215,
   "metadata": {},
   "outputs": [
    {
     "data": {
      "text/plain": [
       "{1, 4, 5}"
      ]
     },
     "execution_count": 215,
     "metadata": {},
     "output_type": "execute_result"
    }
   ],
   "source": [
    "# Do set symmetric difference with ^\n",
    "{1, 2, 3, 4} ^ {2, 3, 5}  # => {1, 4, 5}"
   ]
  },
  {
   "cell_type": "code",
   "execution_count": 216,
   "metadata": {},
   "outputs": [
    {
     "data": {
      "text/plain": [
       "{1, 2, 6}"
      ]
     },
     "execution_count": 216,
     "metadata": {},
     "output_type": "execute_result"
    }
   ],
   "source": [
    "# Do set symmetric difference with ^\n",
    "filled_set ^ other_set  # => {1, 2, 6}"
   ]
  },
  {
   "cell_type": "code",
   "execution_count": 217,
   "metadata": {},
   "outputs": [
    {
     "data": {
      "text/plain": [
       "False"
      ]
     },
     "execution_count": 217,
     "metadata": {},
     "output_type": "execute_result"
    }
   ],
   "source": [
    "# Check if set on the left is a superset of set on the right\n",
    "{1, 2} >= {1, 2, 3} # => False"
   ]
  },
  {
   "cell_type": "code",
   "execution_count": 219,
   "metadata": {},
   "outputs": [
    {
     "data": {
      "text/plain": [
       "True"
      ]
     },
     "execution_count": 219,
     "metadata": {},
     "output_type": "execute_result"
    }
   ],
   "source": [
    "# Check if set on the left is a subset of set on the right\n",
    "{1, 2} <= {1, 2, 3} # => True"
   ]
  },
  {
   "cell_type": "code",
   "execution_count": 220,
   "metadata": {},
   "outputs": [
    {
     "name": "stdout",
     "output_type": "stream",
     "text": [
      "{1, 2, 3, 4, 5}\n"
     ]
    },
    {
     "data": {
      "text/plain": [
       "True"
      ]
     },
     "execution_count": 220,
     "metadata": {},
     "output_type": "execute_result"
    }
   ],
   "source": [
    "# Check for existence in a set with in\n",
    "print(filled_set)\n",
    "2 in filled_set   # => True"
   ]
  },
  {
   "cell_type": "code",
   "execution_count": 221,
   "metadata": {},
   "outputs": [
    {
     "name": "stdout",
     "output_type": "stream",
     "text": [
      "{1, 2, 3, 4, 5}\n"
     ]
    },
    {
     "data": {
      "text/plain": [
       "False"
      ]
     },
     "execution_count": 221,
     "metadata": {},
     "output_type": "execute_result"
    }
   ],
   "source": [
    "# Check for existence in a set with in\n",
    "print(filled_set)\n",
    "10 in filled_set  # => False"
   ]
  },
  {
   "cell_type": "markdown",
   "metadata": {},
   "source": [
    "####################################################\n",
    "## 3. Control Flow and Iterables\n",
    "####################################################"
   ]
  },
  {
   "cell_type": "code",
   "execution_count": 223,
   "metadata": {},
   "outputs": [
    {
     "name": "stdout",
     "output_type": "stream",
     "text": [
      "5\n"
     ]
    }
   ],
   "source": [
    "# Let's just make a variable\n",
    "some_var = 5\n",
    "print(some_var)"
   ]
  },
  {
   "cell_type": "code",
   "execution_count": 224,
   "metadata": {},
   "outputs": [
    {
     "name": "stdout",
     "output_type": "stream",
     "text": [
      "some_var is smaller than 10.\n"
     ]
    }
   ],
   "source": [
    "# Here is an if statement. Indentation is significant in Python!\n",
    "# Convention is to use four spaces, not tabs.\n",
    "# This prints \"some_var is smaller than 10\"\n",
    "if some_var > 10:\n",
    "    print(\"some_var is totally bigger than 10.\")\n",
    "elif some_var < 10:    # This elif clause is optional.\n",
    "    print(\"some_var is smaller than 10.\")\n",
    "else:                  # This is optional too.\n",
    "    print(\"some_var is indeed 10.\")"
   ]
  },
  {
   "cell_type": "code",
   "execution_count": 225,
   "metadata": {},
   "outputs": [
    {
     "name": "stdout",
     "output_type": "stream",
     "text": [
      "dog is a mammal\n",
      "cat is a mammal\n",
      "mouse is a mammal\n"
     ]
    }
   ],
   "source": [
    "\"\"\"\n",
    "For loops iterate over lists\n",
    "prints:\n",
    "    dog is a mammal\n",
    "    cat is a mammal\n",
    "    mouse is a mammal\n",
    "\"\"\"\n",
    "for animal in [\"dog\", \"cat\", \"mouse\"]:\n",
    "    # You can use format() to interpolate formatted strings\n",
    "    print(\"{} is a mammal\".format(animal))"
   ]
  },
  {
   "cell_type": "code",
   "execution_count": 226,
   "metadata": {},
   "outputs": [
    {
     "name": "stdout",
     "output_type": "stream",
     "text": [
      "0\n",
      "1\n",
      "2\n",
      "3\n"
     ]
    }
   ],
   "source": [
    "\"\"\"\n",
    "\"range(number)\" returns an iterable of numbers\n",
    "from zero to the given number\n",
    "prints:\n",
    "    0\n",
    "    1\n",
    "    2\n",
    "    3\n",
    "\"\"\"\n",
    "for i in range(4):\n",
    "    print(i)"
   ]
  },
  {
   "cell_type": "code",
   "execution_count": 227,
   "metadata": {},
   "outputs": [
    {
     "name": "stdout",
     "output_type": "stream",
     "text": [
      "4\n",
      "5\n",
      "6\n",
      "7\n"
     ]
    }
   ],
   "source": [
    "\"\"\"\n",
    "\"range(lower, upper)\" returns an iterable of numbers\n",
    "from the lower number to the upper number\n",
    "prints:\n",
    "    4\n",
    "    5\n",
    "    6\n",
    "    7\n",
    "\"\"\"\n",
    "for i in range(4, 8):\n",
    "    print(i)"
   ]
  },
  {
   "cell_type": "code",
   "execution_count": 228,
   "metadata": {},
   "outputs": [
    {
     "name": "stdout",
     "output_type": "stream",
     "text": [
      "4\n",
      "6\n"
     ]
    }
   ],
   "source": [
    "\"\"\"\n",
    "\"range(lower, upper, step)\" returns an iterable of numbers\n",
    "from the lower number to the upper number, while incrementing\n",
    "by step. If step is not indicated, the default value is 1.\n",
    "prints:\n",
    "    4\n",
    "    6\n",
    "\"\"\"\n",
    "for i in range(4, 8, 2):\n",
    "    print(i)"
   ]
  },
  {
   "cell_type": "code",
   "execution_count": 229,
   "metadata": {},
   "outputs": [
    {
     "name": "stdout",
     "output_type": "stream",
     "text": [
      "0\n",
      "1\n",
      "2\n",
      "3\n"
     ]
    }
   ],
   "source": [
    "\"\"\"\n",
    "While loops go until a condition is no longer met.\n",
    "prints:\n",
    "    0\n",
    "    1\n",
    "    2\n",
    "    3\n",
    "\"\"\"\n",
    "x = 0\n",
    "while x < 4:\n",
    "    print(x)\n",
    "    x += 1  # Shorthand for x = x + 1\n"
   ]
  },
  {
   "cell_type": "code",
   "execution_count": 232,
   "metadata": {},
   "outputs": [
    {
     "name": "stdout",
     "output_type": "stream",
     "text": [
      "We can clean up resources here\n"
     ]
    }
   ],
   "source": [
    "# Handle exceptions with a try/except block\n",
    "try:\n",
    "    # Use \"raise\" to raise an error\n",
    "    raise IndexError(\"This is an index error\")\n",
    "except IndexError as e:\n",
    "    pass                 # Pass is just a no-op. Usually you would do recovery here.\n",
    "except (TypeError, NameError):\n",
    "    pass                 # Multiple exceptions can be handled together, if required.\n",
    "else:                    # Optional clause to the try/except block. Must follow all except blocks\n",
    "    print(\"All good!\")   # Runs only if the code in try raises no exceptions\n",
    "finally:                 #  Execute under all circumstances\n",
    "    print(\"We can clean up resources here\")\n"
   ]
  },
  {
   "cell_type": "code",
   "execution_count": 233,
   "metadata": {},
   "outputs": [
    {
     "ename": "FileNotFoundError",
     "evalue": "[Errno 2] No such file or directory: 'myfile.txt'",
     "output_type": "error",
     "traceback": [
      "\u001b[0;31m---------------------------------------------------------------------------\u001b[0m",
      "\u001b[0;31mFileNotFoundError\u001b[0m                         Traceback (most recent call last)",
      "\u001b[0;32m<ipython-input-233-4be77cea7790>\u001b[0m in \u001b[0;36m<module>\u001b[0;34m\u001b[0m\n\u001b[1;32m      1\u001b[0m \u001b[0;31m# Instead of try/finally to cleanup resources you can use a with statement\u001b[0m\u001b[0;34m\u001b[0m\u001b[0;34m\u001b[0m\u001b[0;34m\u001b[0m\u001b[0m\n\u001b[0;32m----> 2\u001b[0;31m \u001b[0;32mwith\u001b[0m \u001b[0mopen\u001b[0m\u001b[0;34m(\u001b[0m\u001b[0;34m\"myfile.txt\"\u001b[0m\u001b[0;34m)\u001b[0m \u001b[0;32mas\u001b[0m \u001b[0mf\u001b[0m\u001b[0;34m:\u001b[0m\u001b[0;34m\u001b[0m\u001b[0;34m\u001b[0m\u001b[0m\n\u001b[0m\u001b[1;32m      3\u001b[0m     \u001b[0;32mfor\u001b[0m \u001b[0mline\u001b[0m \u001b[0;32min\u001b[0m \u001b[0mf\u001b[0m\u001b[0;34m:\u001b[0m\u001b[0;34m\u001b[0m\u001b[0;34m\u001b[0m\u001b[0m\n\u001b[1;32m      4\u001b[0m         \u001b[0mprint\u001b[0m\u001b[0;34m(\u001b[0m\u001b[0mline\u001b[0m\u001b[0;34m)\u001b[0m\u001b[0;34m\u001b[0m\u001b[0;34m\u001b[0m\u001b[0m\n",
      "\u001b[0;31mFileNotFoundError\u001b[0m: [Errno 2] No such file or directory: 'myfile.txt'"
     ]
    }
   ],
   "source": [
    "# Instead of try/finally to cleanup resources you can use a with statement\n",
    "with open(\"myfile.txt\") as f:\n",
    "    for line in f:\n",
    "        print(line)"
   ]
  },
  {
   "cell_type": "code",
   "execution_count": 235,
   "metadata": {},
   "outputs": [
    {
     "name": "stdout",
     "output_type": "stream",
     "text": [
      "dict_keys(['one', 'two', 'three'])\n"
     ]
    }
   ],
   "source": [
    "# Python offers a fundamental abstraction called the Iterable.\n",
    "# An iterable is an object that can be treated as a sequence.\n",
    "# The object returned by the range function, is an iterable.\n",
    "\n",
    "filled_dict = {\"one\": 1, \"two\": 2, \"three\": 3}\n",
    "our_iterable = filled_dict.keys()\n",
    "print(our_iterable)  # => dict_keys(['one', 'two', 'three']). This is an object that implements our Iterable interface."
   ]
  },
  {
   "cell_type": "code",
   "execution_count": 236,
   "metadata": {},
   "outputs": [
    {
     "name": "stdout",
     "output_type": "stream",
     "text": [
      "one\n",
      "two\n",
      "three\n"
     ]
    }
   ],
   "source": [
    "# We can loop over it.\n",
    "for i in our_iterable:\n",
    "    print(i)  # Prints one, two, three"
   ]
  },
  {
   "cell_type": "code",
   "execution_count": 237,
   "metadata": {},
   "outputs": [
    {
     "ename": "TypeError",
     "evalue": "'dict_keys' object does not support indexing",
     "output_type": "error",
     "traceback": [
      "\u001b[0;31m---------------------------------------------------------------------------\u001b[0m",
      "\u001b[0;31mTypeError\u001b[0m                                 Traceback (most recent call last)",
      "\u001b[0;32m<ipython-input-237-67296589dd53>\u001b[0m in \u001b[0;36m<module>\u001b[0;34m\u001b[0m\n\u001b[1;32m      1\u001b[0m \u001b[0;31m# However we cannot address elements by index.\u001b[0m\u001b[0;34m\u001b[0m\u001b[0;34m\u001b[0m\u001b[0;34m\u001b[0m\u001b[0m\n\u001b[0;32m----> 2\u001b[0;31m \u001b[0mour_iterable\u001b[0m\u001b[0;34m[\u001b[0m\u001b[0;36m1\u001b[0m\u001b[0;34m]\u001b[0m  \u001b[0;31m# Raises a TypeError\u001b[0m\u001b[0;34m\u001b[0m\u001b[0;34m\u001b[0m\u001b[0m\n\u001b[0m",
      "\u001b[0;31mTypeError\u001b[0m: 'dict_keys' object does not support indexing"
     ]
    }
   ],
   "source": [
    "# However we cannot address elements by index.\n",
    "our_iterable[1]  # Raises a TypeError"
   ]
  },
  {
   "cell_type": "code",
   "execution_count": 256,
   "metadata": {},
   "outputs": [
    {
     "name": "stdout",
     "output_type": "stream",
     "text": [
      "['one', 'two', 'three']\n"
     ]
    },
    {
     "data": {
      "text/plain": [
       "'two'"
      ]
     },
     "execution_count": 256,
     "metadata": {},
     "output_type": "execute_result"
    }
   ],
   "source": [
    "# You can grab all the elements of an iterator by calling list() on it.  \n",
    "\n",
    "keys_list = list(filled_dict.keys())\n",
    "print(keys_list) # => Prints [\"one\", \"two\", \"three\"]\n",
    "keys_list[1]   # => Prints \"two\""
   ]
  },
  {
   "cell_type": "code",
   "execution_count": 249,
   "metadata": {},
   "outputs": [
    {
     "name": "stdout",
     "output_type": "stream",
     "text": [
      "<dict_keyiterator object at 0x1064ea278>\n"
     ]
    }
   ],
   "source": [
    "# An iterable is an object that knows how to create an iterator.\n",
    "our_iterator = iter(our_iterable)\n",
    "print(our_iterator)"
   ]
  },
  {
   "cell_type": "code",
   "execution_count": 250,
   "metadata": {},
   "outputs": [
    {
     "ename": "TypeError",
     "evalue": "'dict_keyiterator' object is not subscriptable",
     "output_type": "error",
     "traceback": [
      "\u001b[0;31m---------------------------------------------------------------------------\u001b[0m",
      "\u001b[0;31mTypeError\u001b[0m                                 Traceback (most recent call last)",
      "\u001b[0;32m<ipython-input-250-dff1f82e8248>\u001b[0m in \u001b[0;36m<module>\u001b[0;34m\u001b[0m\n\u001b[0;32m----> 1\u001b[0;31m \u001b[0mprint\u001b[0m\u001b[0;34m(\u001b[0m\u001b[0mour_iterator\u001b[0m\u001b[0;34m[\u001b[0m\u001b[0;36m1\u001b[0m\u001b[0;34m]\u001b[0m\u001b[0;34m)\u001b[0m\u001b[0;34m\u001b[0m\u001b[0;34m\u001b[0m\u001b[0m\n\u001b[0m",
      "\u001b[0;31mTypeError\u001b[0m: 'dict_keyiterator' object is not subscriptable"
     ]
    }
   ],
   "source": [
    "print(our_iterator[1])"
   ]
  },
  {
   "cell_type": "code",
   "execution_count": 251,
   "metadata": {},
   "outputs": [
    {
     "data": {
      "text/plain": [
       "'one'"
      ]
     },
     "execution_count": 251,
     "metadata": {},
     "output_type": "execute_result"
    }
   ],
   "source": [
    "# Our iterator is an object that can remember the state as we traverse through it.\n",
    "# We get the next object with \"next()\".\n",
    "next(our_iterator)  # => \"one\""
   ]
  },
  {
   "cell_type": "code",
   "execution_count": 252,
   "metadata": {},
   "outputs": [
    {
     "data": {
      "text/plain": [
       "'two'"
      ]
     },
     "execution_count": 252,
     "metadata": {},
     "output_type": "execute_result"
    }
   ],
   "source": [
    "# It maintains state as we iterate.\n",
    "next(our_iterator)  # => \"two\""
   ]
  },
  {
   "cell_type": "code",
   "execution_count": 253,
   "metadata": {},
   "outputs": [
    {
     "data": {
      "text/plain": [
       "'three'"
      ]
     },
     "execution_count": 253,
     "metadata": {},
     "output_type": "execute_result"
    }
   ],
   "source": [
    "# It maintains state as we iterate.\n",
    "next(our_iterator)  # => \"three\""
   ]
  },
  {
   "cell_type": "code",
   "execution_count": 254,
   "metadata": {},
   "outputs": [
    {
     "ename": "StopIteration",
     "evalue": "",
     "output_type": "error",
     "traceback": [
      "\u001b[0;31m---------------------------------------------------------------------------\u001b[0m",
      "\u001b[0;31mStopIteration\u001b[0m                             Traceback (most recent call last)",
      "\u001b[0;32m<ipython-input-254-e2b09db66559>\u001b[0m in \u001b[0;36m<module>\u001b[0;34m\u001b[0m\n\u001b[1;32m      1\u001b[0m \u001b[0;31m# It maintains state as we iterate.\u001b[0m\u001b[0;34m\u001b[0m\u001b[0;34m\u001b[0m\u001b[0;34m\u001b[0m\u001b[0m\n\u001b[0;32m----> 2\u001b[0;31m \u001b[0mnext\u001b[0m\u001b[0;34m(\u001b[0m\u001b[0mour_iterator\u001b[0m\u001b[0;34m)\u001b[0m  \u001b[0;31m# => \"two\"\u001b[0m\u001b[0;34m\u001b[0m\u001b[0;34m\u001b[0m\u001b[0m\n\u001b[0m",
      "\u001b[0;31mStopIteration\u001b[0m: "
     ]
    }
   ],
   "source": [
    "# After the iterator has returned all of its data, it raises a StopIteration exception\n",
    "next(our_iterator)  # Raises StopIteration"
   ]
  },
  {
   "cell_type": "markdown",
   "metadata": {},
   "source": [
    "####################################################\n",
    "## 4. Functions\n",
    "####################################################"
   ]
  },
  {
   "cell_type": "code",
   "execution_count": 257,
   "metadata": {},
   "outputs": [],
   "source": [
    "# Use \"def\" to create new functions\n",
    "def add(x, y):\n",
    "    print(\"x is {} and y is {}\".format(x, y))\n",
    "    return x + y  # Return values with a return statement"
   ]
  },
  {
   "cell_type": "code",
   "execution_count": 258,
   "metadata": {},
   "outputs": [
    {
     "name": "stdout",
     "output_type": "stream",
     "text": [
      "x is 5 and y is 6\n"
     ]
    },
    {
     "data": {
      "text/plain": [
       "11"
      ]
     },
     "execution_count": 258,
     "metadata": {},
     "output_type": "execute_result"
    }
   ],
   "source": [
    "# Calling functions with parameters\n",
    "add(5, 6)  # => prints out \"x is 5 and y is 6\" and returns 11"
   ]
  },
  {
   "cell_type": "code",
   "execution_count": 259,
   "metadata": {},
   "outputs": [
    {
     "name": "stdout",
     "output_type": "stream",
     "text": [
      "x is 5 and y is 6\n"
     ]
    },
    {
     "data": {
      "text/plain": [
       "11"
      ]
     },
     "execution_count": 259,
     "metadata": {},
     "output_type": "execute_result"
    }
   ],
   "source": [
    "# Another way to call functions is with keyword arguments\n",
    "add(y=6, x=5)  # Keyword arguments can arrive in any order."
   ]
  },
  {
   "cell_type": "code",
   "execution_count": 260,
   "metadata": {},
   "outputs": [
    {
     "data": {
      "text/plain": [
       "(1, 2, 3)"
      ]
     },
     "execution_count": 260,
     "metadata": {},
     "output_type": "execute_result"
    }
   ],
   "source": [
    "# You can define functions that take a variable number of positional arguments\n",
    "def varargs(*args):\n",
    "    return args\n",
    "\n",
    "varargs(1, 2, 3)  # => (1, 2, 3)"
   ]
  },
  {
   "cell_type": "code",
   "execution_count": 261,
   "metadata": {},
   "outputs": [],
   "source": [
    "# You can define functions that take a variable number of keyword arguments, as well\n",
    "def keyword_args(**kwargs):\n",
    "    return kwargs"
   ]
  },
  {
   "cell_type": "code",
   "execution_count": 262,
   "metadata": {},
   "outputs": [
    {
     "data": {
      "text/plain": [
       "{'big': 'foot', 'loch': 'ness'}"
      ]
     },
     "execution_count": 262,
     "metadata": {},
     "output_type": "execute_result"
    }
   ],
   "source": [
    "# Let's call it to see what happens\n",
    "keyword_args(big=\"foot\", loch=\"ness\")  # => {\"big\": \"foot\", \"loch\": \"ness\"}"
   ]
  },
  {
   "cell_type": "code",
   "execution_count": 263,
   "metadata": {},
   "outputs": [],
   "source": [
    "# You can do both at once, if you like\n",
    "def all_the_args(*args, **kwargs):\n",
    "    print(args)\n",
    "    print(kwargs)"
   ]
  },
  {
   "cell_type": "code",
   "execution_count": 265,
   "metadata": {},
   "outputs": [
    {
     "name": "stdout",
     "output_type": "stream",
     "text": [
      "(1, 2, 3, 4)\n",
      "{}\n",
      "()\n",
      "{'a': 3, 'b': 4}\n",
      "(1, 2, 3, 4)\n",
      "{'a': 3, 'b': 4}\n"
     ]
    }
   ],
   "source": [
    "\"\"\"\n",
    "all_the_args(1, 2, a=3, b=4) prints:\n",
    "    (1, 2)\n",
    "    {\"a\": 3, \"b\": 4}\n",
    "\"\"\"\n",
    "\n",
    "# When calling functions, you can do the opposite of args/kwargs!\n",
    "# Use * to expand tuples and use ** to expand kwargs.\n",
    "args = (1, 2, 3, 4)\n",
    "kwargs = {\"a\": 3, \"b\": 4}\n",
    "all_the_args(*args)            # equivalent to all_the_args(1, 2, 3, 4)\n",
    "all_the_args(**kwargs)         # equivalent to all_the_args(a=3, b=4)\n",
    "all_the_args(*args, **kwargs)  # equivalent to all_the_args(1, 2, 3, 4, a=3, b=4)\n"
   ]
  },
  {
   "cell_type": "code",
   "execution_count": 267,
   "metadata": {},
   "outputs": [
    {
     "name": "stdout",
     "output_type": "stream",
     "text": [
      "2 1\n"
     ]
    }
   ],
   "source": [
    "# Returning multiple values (with tuple assignments)\n",
    "def swap(x, y):\n",
    "    return y, x  # Return multiple values as a tuple without the parenthesis.\n",
    "                 # (Note: parenthesis have been excluded but can be included)\n",
    "\n",
    "x = 1\n",
    "y = 2\n",
    "x, y = swap(x, y)     # => x = 2, y = 1\n",
    "# (x, y) = swap(x,y)  # Again parenthesis have been excluded but can be included.\n",
    "print(x, y)"
   ]
  },
  {
   "cell_type": "code",
   "execution_count": 268,
   "metadata": {},
   "outputs": [
    {
     "name": "stdout",
     "output_type": "stream",
     "text": [
      "43\n",
      "5\n",
      "6\n"
     ]
    }
   ],
   "source": [
    "# Function Scope\n",
    "x = 5\n",
    "\n",
    "def set_x(num):\n",
    "    # Local var x not the same as global variable x\n",
    "    x = num    # => 43\n",
    "    print(x)   # => 43\n",
    "\n",
    "def set_global_x(num):\n",
    "    global x\n",
    "    print(x)   # => 5\n",
    "    x = num    # global var x is now set to 6\n",
    "    print(x)   # => 6\n",
    "\n",
    "set_x(43)\n",
    "set_global_x(6)"
   ]
  },
  {
   "cell_type": "code",
   "execution_count": 269,
   "metadata": {},
   "outputs": [
    {
     "data": {
      "text/plain": [
       "13"
      ]
     },
     "execution_count": 269,
     "metadata": {},
     "output_type": "execute_result"
    }
   ],
   "source": [
    "# Python has first class functions\n",
    "def create_adder(x):\n",
    "    def adder(y):\n",
    "        return x + y\n",
    "    return adder\n",
    "\n",
    "add_10 = create_adder(10)\n",
    "add_10(3)   # => 13"
   ]
  },
  {
   "cell_type": "code",
   "execution_count": 270,
   "metadata": {},
   "outputs": [
    {
     "data": {
      "text/plain": [
       "True"
      ]
     },
     "execution_count": 270,
     "metadata": {},
     "output_type": "execute_result"
    }
   ],
   "source": [
    "# There are also anonymous functions\n",
    "(lambda x: x > 2)(3)                  # => True"
   ]
  },
  {
   "cell_type": "code",
   "execution_count": 271,
   "metadata": {},
   "outputs": [
    {
     "data": {
      "text/plain": [
       "5"
      ]
     },
     "execution_count": 271,
     "metadata": {},
     "output_type": "execute_result"
    }
   ],
   "source": [
    "# There are also anonymous functions\n",
    "(lambda x, y: x ** 2 + y ** 2)(2, 1)  # => 5"
   ]
  },
  {
   "cell_type": "code",
   "execution_count": 272,
   "metadata": {},
   "outputs": [
    {
     "data": {
      "text/plain": [
       "[11, 12, 13]"
      ]
     },
     "execution_count": 272,
     "metadata": {},
     "output_type": "execute_result"
    }
   ],
   "source": [
    "# There are built-in higher order functions\n",
    "list(map(add_10, [1, 2, 3]))          # => [11, 12, 13]"
   ]
  },
  {
   "cell_type": "code",
   "execution_count": 273,
   "metadata": {},
   "outputs": [
    {
     "data": {
      "text/plain": [
       "[4, 2, 3]"
      ]
     },
     "execution_count": 273,
     "metadata": {},
     "output_type": "execute_result"
    }
   ],
   "source": [
    "# There are built-in higher order functions\n",
    "list(map(max, [1, 2, 3], [4, 2, 1]))  # => [4, 2, 3]"
   ]
  },
  {
   "cell_type": "code",
   "execution_count": 274,
   "metadata": {},
   "outputs": [
    {
     "data": {
      "text/plain": [
       "[6, 7]"
      ]
     },
     "execution_count": 274,
     "metadata": {},
     "output_type": "execute_result"
    }
   ],
   "source": [
    "# There are built-in higher order functions\n",
    "list(filter(lambda x: x > 5, [3, 4, 5, 6, 7]))  # => [6, 7]"
   ]
  },
  {
   "cell_type": "code",
   "execution_count": 275,
   "metadata": {},
   "outputs": [
    {
     "data": {
      "text/plain": [
       "[11, 12, 13]"
      ]
     },
     "execution_count": 275,
     "metadata": {},
     "output_type": "execute_result"
    }
   ],
   "source": [
    "# We can use list comprehensions for nice maps and filters\n",
    "# List comprehension stores the output as a list which can itself be a nested list\n",
    "[add_10(i) for i in [1, 2, 3]]         # => [11, 12, 13]"
   ]
  },
  {
   "cell_type": "code",
   "execution_count": 276,
   "metadata": {},
   "outputs": [
    {
     "data": {
      "text/plain": [
       "[6, 7]"
      ]
     },
     "execution_count": 276,
     "metadata": {},
     "output_type": "execute_result"
    }
   ],
   "source": [
    "# We can use list comprehensions for nice maps and filters\n",
    "# List comprehension stores the output as a list which can itself be a nested list\n",
    "[x for x in [3, 4, 5, 6, 7] if x > 5]  # => [6, 7]"
   ]
  },
  {
   "cell_type": "code",
   "execution_count": 277,
   "metadata": {},
   "outputs": [
    {
     "data": {
      "text/plain": [
       "{'d', 'e', 'f'}"
      ]
     },
     "execution_count": 277,
     "metadata": {},
     "output_type": "execute_result"
    }
   ],
   "source": [
    "# You can construct set and dict comprehensions as well.\n",
    "{x for x in 'abcddeef' if x not in 'abc'}  # => {'d', 'e', 'f'}"
   ]
  },
  {
   "cell_type": "code",
   "execution_count": 278,
   "metadata": {},
   "outputs": [
    {
     "data": {
      "text/plain": [
       "{0: 0, 1: 1, 2: 4, 3: 9, 4: 16}"
      ]
     },
     "execution_count": 278,
     "metadata": {},
     "output_type": "execute_result"
    }
   ],
   "source": [
    "# You can construct set and dict comprehensions as well.\n",
    "{x: x**2 for x in range(5)}  # => {0: 0, 1: 1, 2: 4, 3: 9, 4: 16}"
   ]
  },
  {
   "cell_type": "markdown",
   "metadata": {},
   "source": [
    "####################################################\n",
    "## 5. Modules\n",
    "####################################################"
   ]
  },
  {
   "cell_type": "code",
   "execution_count": 279,
   "metadata": {},
   "outputs": [
    {
     "name": "stdout",
     "output_type": "stream",
     "text": [
      "4.0\n"
     ]
    }
   ],
   "source": [
    "# You can import modules\n",
    "import math\n",
    "print(math.sqrt(16))  # => 4.0"
   ]
  },
  {
   "cell_type": "code",
   "execution_count": 280,
   "metadata": {},
   "outputs": [
    {
     "name": "stdout",
     "output_type": "stream",
     "text": [
      "4\n",
      "3\n"
     ]
    }
   ],
   "source": [
    "# You can get specific functions from a module\n",
    "from math import ceil, floor\n",
    "print(ceil(3.7))   # => 4.0\n",
    "print(floor(3.7))  # => 3.0"
   ]
  },
  {
   "cell_type": "code",
   "execution_count": 281,
   "metadata": {},
   "outputs": [],
   "source": [
    "# You can import all functions from a module.\n",
    "# Warning: this is not recommended\n",
    "from math import *"
   ]
  },
  {
   "cell_type": "code",
   "execution_count": 282,
   "metadata": {},
   "outputs": [
    {
     "data": {
      "text/plain": [
       "True"
      ]
     },
     "execution_count": 282,
     "metadata": {},
     "output_type": "execute_result"
    }
   ],
   "source": [
    "# You can shorten module names\n",
    "import math as m\n",
    "math.sqrt(16) == m.sqrt(16)  # => True"
   ]
  },
  {
   "cell_type": "code",
   "execution_count": 283,
   "metadata": {},
   "outputs": [
    {
     "data": {
      "text/plain": [
       "['__doc__',\n",
       " '__file__',\n",
       " '__loader__',\n",
       " '__name__',\n",
       " '__package__',\n",
       " '__spec__',\n",
       " 'acos',\n",
       " 'acosh',\n",
       " 'asin',\n",
       " 'asinh',\n",
       " 'atan',\n",
       " 'atan2',\n",
       " 'atanh',\n",
       " 'ceil',\n",
       " 'copysign',\n",
       " 'cos',\n",
       " 'cosh',\n",
       " 'degrees',\n",
       " 'e',\n",
       " 'erf',\n",
       " 'erfc',\n",
       " 'exp',\n",
       " 'expm1',\n",
       " 'fabs',\n",
       " 'factorial',\n",
       " 'floor',\n",
       " 'fmod',\n",
       " 'frexp',\n",
       " 'fsum',\n",
       " 'gamma',\n",
       " 'gcd',\n",
       " 'hypot',\n",
       " 'inf',\n",
       " 'isclose',\n",
       " 'isfinite',\n",
       " 'isinf',\n",
       " 'isnan',\n",
       " 'ldexp',\n",
       " 'lgamma',\n",
       " 'log',\n",
       " 'log10',\n",
       " 'log1p',\n",
       " 'log2',\n",
       " 'modf',\n",
       " 'nan',\n",
       " 'pi',\n",
       " 'pow',\n",
       " 'radians',\n",
       " 'remainder',\n",
       " 'sin',\n",
       " 'sinh',\n",
       " 'sqrt',\n",
       " 'tan',\n",
       " 'tanh',\n",
       " 'tau',\n",
       " 'trunc']"
      ]
     },
     "execution_count": 283,
     "metadata": {},
     "output_type": "execute_result"
    }
   ],
   "source": [
    "# Python modules are just ordinary Python files. You\n",
    "# can write your own, and import them. The name of the\n",
    "# module is the same as the name of the file.\n",
    "\n",
    "# You can find out which functions and attributes\n",
    "# are defined in a module.\n",
    "import math\n",
    "dir(math)\n",
    "\n",
    "# If you have a Python script named math.py in the same\n",
    "# folder as your current script, the file math.py will\n",
    "# be loaded instead of the built-in Python module.\n",
    "# This happens because the local folder has priority\n",
    "# over Python's built-in libraries."
   ]
  },
  {
   "cell_type": "markdown",
   "metadata": {},
   "source": [
    "####################################################\n",
    "## 6. Classes\n",
    "####################################################"
   ]
  },
  {
   "cell_type": "code",
   "execution_count": 292,
   "metadata": {},
   "outputs": [
    {
     "name": "stdout",
     "output_type": "stream",
     "text": [
      "Ian: hi\n",
      "Joel: hello\n",
      "Ian: H. sapiens\n",
      "Ian: H. neanderthalensis\n",
      "Joel: H. neanderthalensis\n",
      "*grunt*\n",
      "*grunt*\n",
      "Ian: 42\n",
      "Joel: 0\n"
     ]
    }
   ],
   "source": [
    "# We use the \"class\" statement to create a class\n",
    "class Human:\n",
    "\n",
    "    # A class attribute. It is shared by all instances of this class\n",
    "    species = \"H. sapiens\"\n",
    "\n",
    "    # Basic initializer, this is called when this class is instantiated.\n",
    "    # Note that the double leading and trailing underscores denote objects\n",
    "    # or attributes that are used by Python but that live in user-controlled\n",
    "    # namespaces. Methods(or objects or attributes) like: __init__, __str__,\n",
    "    # __repr__ etc. are called special methods (or sometimes called dunder methods)\n",
    "    # You should not invent such names on your own.\n",
    "    def __init__(self, name):\n",
    "        # Assign the argument to the instance's name attribute\n",
    "        self.name = name\n",
    "\n",
    "        # Initialize property\n",
    "        self._age = 0\n",
    "\n",
    "    # An instance method. All methods take \"self\" as the first argument\n",
    "    def say(self, msg):\n",
    "        print(\"{name}: {message}\".format(name=self.name, message=msg))\n",
    "\n",
    "    # Another instance method\n",
    "    def sing(self):\n",
    "        return 'yo... yo... microphone check... one two... one two...'\n",
    "\n",
    "    # A class method is shared among all instances\n",
    "    # They are called with the calling class as the first argument\n",
    "    @classmethod\n",
    "    def get_species(cls):\n",
    "        return cls.species\n",
    "\n",
    "    # A static method is called without a class or instance reference\n",
    "    @staticmethod\n",
    "    def grunt():\n",
    "        return \"*grunt*\"\n",
    "\n",
    "    # A property is just like a getter.\n",
    "    # It turns the method age() into an read-only attribute of the same name.\n",
    "    # There's no need to write trivial getters and setters in Python, though.\n",
    "    @property\n",
    "    def age(self):\n",
    "        return self._age\n",
    "\n",
    "    # This allows the property to be set\n",
    "    @age.setter\n",
    "    def age(self, age):\n",
    "        self._age = age\n",
    "\n",
    "    # This allows the property to be deleted\n",
    "    @age.deleter\n",
    "    def age(self):\n",
    "        del self._age\n",
    "\n",
    "\n",
    "# When a Python interpreter reads a source file it executes all its code.\n",
    "# This __name__ check makes sure this code block is only executed when this\n",
    "# module is the main program.\n",
    "if __name__ == '__main__':\n",
    "    # Instantiate a class\n",
    "    i = Human(name=\"Ian\")\n",
    "    i.say(\"hi\")                     # \"Ian: hi\"\n",
    "    j = Human(\"Joel\")\n",
    "    j.say(\"hello\")                  # \"Joel: hello\"\n",
    "    # i and j are instances of type Human, or in other words: they are Human objects\n",
    "\n",
    "    # Call our class method\n",
    "    i.say(i.get_species())          # \"Ian: H. sapiens\"\n",
    "    # Change the shared attribute\n",
    "    Human.species = \"H. neanderthalensis\"\n",
    "    i.say(i.get_species())          # => \"Ian: H. neanderthalensis\"\n",
    "    j.say(j.get_species())          # => \"Joel: H. neanderthalensis\"\n",
    "\n",
    "    # Call the static method\n",
    "    print(Human.grunt())            # => \"*grunt*\"\n",
    "\n",
    "    # Cannot call static method with instance of object \n",
    "    # because i.grunt() will automatically put \"self\" (the object i) as an argument\n",
    "    print(i.grunt())                # => TypeError: grunt() takes 0 positional arguments but 1 was given\n",
    "\n",
    "    # Update the property for this instance\n",
    "    i.age = 42\n",
    "    # Get the property\n",
    "    i.say(i.age)                    # => \"Ian: 42\"\n",
    "    j.say(j.age)                    # => \"Joel: 0\"\n",
    "    # Delete the property\n",
    "    del i.age\n",
    "    # i.age                         # => this would raise an AttributeError"
   ]
  },
  {
   "cell_type": "code",
   "execution_count": 293,
   "metadata": {},
   "outputs": [
    {
     "ename": "AttributeError",
     "evalue": "'Human' object has no attribute '_age'",
     "output_type": "error",
     "traceback": [
      "\u001b[0;31m---------------------------------------------------------------------------\u001b[0m",
      "\u001b[0;31mAttributeError\u001b[0m                            Traceback (most recent call last)",
      "\u001b[0;32m<ipython-input-293-7045cb90fa85>\u001b[0m in \u001b[0;36m<module>\u001b[0;34m\u001b[0m\n\u001b[0;32m----> 1\u001b[0;31m \u001b[0mi\u001b[0m\u001b[0;34m.\u001b[0m\u001b[0mage\u001b[0m                         \u001b[0;31m# => this would raise an AttributeError\u001b[0m\u001b[0;34m\u001b[0m\u001b[0;34m\u001b[0m\u001b[0m\n\u001b[0m",
      "\u001b[0;32m<ipython-input-292-08e209e240a3>\u001b[0m in \u001b[0;36mage\u001b[0;34m(self)\u001b[0m\n\u001b[1;32m     42\u001b[0m     \u001b[0;34m@\u001b[0m\u001b[0mproperty\u001b[0m\u001b[0;34m\u001b[0m\u001b[0;34m\u001b[0m\u001b[0m\n\u001b[1;32m     43\u001b[0m     \u001b[0;32mdef\u001b[0m \u001b[0mage\u001b[0m\u001b[0;34m(\u001b[0m\u001b[0mself\u001b[0m\u001b[0;34m)\u001b[0m\u001b[0;34m:\u001b[0m\u001b[0;34m\u001b[0m\u001b[0;34m\u001b[0m\u001b[0m\n\u001b[0;32m---> 44\u001b[0;31m         \u001b[0;32mreturn\u001b[0m \u001b[0mself\u001b[0m\u001b[0;34m.\u001b[0m\u001b[0m_age\u001b[0m\u001b[0;34m\u001b[0m\u001b[0;34m\u001b[0m\u001b[0m\n\u001b[0m\u001b[1;32m     45\u001b[0m \u001b[0;34m\u001b[0m\u001b[0m\n\u001b[1;32m     46\u001b[0m     \u001b[0;31m# This allows the property to be set\u001b[0m\u001b[0;34m\u001b[0m\u001b[0;34m\u001b[0m\u001b[0;34m\u001b[0m\u001b[0m\n",
      "\u001b[0;31mAttributeError\u001b[0m: 'Human' object has no attribute '_age'"
     ]
    }
   ],
   "source": [
    "i.age                         # => this would raise an AttributeError"
   ]
  },
  {
   "cell_type": "markdown",
   "metadata": {},
   "source": [
    "####################################################\n",
    "## 6.1 Inheritance\n",
    "####################################################"
   ]
  },
  {
   "cell_type": "code",
   "execution_count": 294,
   "metadata": {},
   "outputs": [
    {
     "name": "stdout",
     "output_type": "stream",
     "text": [
      "I am human\n",
      "I am a superhero\n",
      "(<class '__main__.Superhero'>, <class '__main__.Human'>, <class 'object'>)\n",
      "Superhuman\n",
      "Dun, dun, DUN!\n",
      "Tick: Spoon\n",
      "I wield the power of super strength!\n",
      "I wield the power of bulletproofing!\n",
      "0\n",
      "31\n",
      "Am I Oscar eligible? False\n",
      "Am I Oscar eligible? Avengers\n"
     ]
    }
   ],
   "source": [
    "# Inheritance allows new child classes to be defined that inherit methods and\n",
    "# variables from their parent class. \n",
    "\n",
    "# Using the Human class defined above as the base or parent class, we can\n",
    "# define a child class, Superhero, which inherits the class variables like\n",
    "# \"species\", \"name\", and \"age\", as well as methods, like \"sing\" and \"grunt\"\n",
    "# from the Human class, but can also have its own unique properties.\n",
    "\n",
    "# To take advantage of modularization by file you could place the classes above in their own files,\n",
    "# say, human.py\n",
    "\n",
    "# To import functions from other files use the following format\n",
    "# from \"filename-without-extension\" import \"function-or-class\"\n",
    "\n",
    "#from human import Human\n",
    "\n",
    "\n",
    "# Specify the parent class(es) as parameters to the class definition\n",
    "class Superhero(Human):\n",
    "\n",
    "    # If the child class should inherit all of the parent's definitions without\n",
    "    # any modifications, you can just use the \"pass\" keyword (and nothing else)\n",
    "    # but in this case it is commented out to allow for a unique child class:\n",
    "    # pass\n",
    "\n",
    "    # Child classes can override their parents' attributes\n",
    "    species = 'Superhuman'\n",
    "\n",
    "    # Children automatically inherit their parent class's constructor including\n",
    "    # its arguments, but can also define additional arguments or definitions\n",
    "    # and override its methods such as the class constructor.\n",
    "    # This constructor inherits the \"name\" argument from the \"Human\" class and\n",
    "    # adds the \"superpower\" and \"movie\" arguments:\n",
    "    def __init__(self, name, movie=False,\n",
    "                 superpowers=[\"super strength\", \"bulletproofing\"]):\n",
    "\n",
    "        # add additional class attributes:\n",
    "        self.fictional = True\n",
    "        self.movie = movie\n",
    "        # be aware of mutable default values, since defaults are shared\n",
    "        self.superpowers = superpowers\n",
    "\n",
    "        # The \"super\" function lets you access the parent class's methods\n",
    "        # that are overridden by the child, in this case, the __init__ method.\n",
    "        # This calls the parent class constructor:\n",
    "        super().__init__(name)\n",
    "\n",
    "    # override the sing method\n",
    "    def sing(self):\n",
    "        return 'Dun, dun, DUN!'\n",
    "\n",
    "    # add an additional instance method\n",
    "    def boast(self):\n",
    "        for power in self.superpowers:\n",
    "            print(\"I wield the power of {pow}!\".format(pow=power))\n",
    "\n",
    "\n",
    "if __name__ == '__main__':\n",
    "    sup = Superhero(name=\"Tick\")\n",
    "\n",
    "    # Instance type checks\n",
    "    if isinstance(sup, Human):\n",
    "        print('I am human')\n",
    "    if type(sup) is Superhero:\n",
    "        print('I am a superhero')\n",
    "\n",
    "    # Get the Method Resolution search Order used by both getattr() and super()\n",
    "    # This attribute is dynamic and can be updated\n",
    "    print(Superhero.__mro__)    # => (<class '__main__.Superhero'>, <class 'human.Human'>, <class 'object'>)\n",
    "\n",
    "    # Calls parent method but uses its own class attribute\n",
    "    print(sup.get_species())    # => Superhuman\n",
    "\n",
    "    # Calls overridden method\n",
    "    print(sup.sing())           # => Dun, dun, DUN!\n",
    "\n",
    "    # Calls method from Human\n",
    "    sup.say('Spoon')            # => Tick: Spoon\n",
    "\n",
    "    # Call method that exists only in Superhero\n",
    "    sup.boast()                 # => I wield the power of super strength!\n",
    "                                # => I wield the power of bulletproofing!\n",
    "\n",
    "    # Inherited class attribute\n",
    "    print(sup.age)              # => 0\n",
    "    sup.age = 31\n",
    "    print(sup.age)              # => 31\n",
    "    \n",
    "\n",
    "    # Attribute that only exists within Superhero\n",
    "    print('Am I Oscar eligible? ' + str(sup.movie)) # => False\n",
    "    sup.movie=\"Avengers\"\n",
    "    print('Am I Oscar eligible? ' + str(sup.movie)) # => Avengers"
   ]
  },
  {
   "cell_type": "markdown",
   "metadata": {},
   "source": [
    "####################################################\n",
    "## 6.2 Multiple Inheritance\n",
    "####################################################"
   ]
  },
  {
   "cell_type": "code",
   "execution_count": 299,
   "metadata": {},
   "outputs": [
    {
     "name": "stdout",
     "output_type": "stream",
     "text": [
      "hello\n",
      "True\n",
      "(<class '__main__.Batman'>, <class '__main__.Superhero'>, <class '__main__.Human'>, <class '__main__.Bat'>, <class 'object'>)\n",
      "Superhuman\n",
      "nan nan nan nan nan batman!\n",
      "Sad Affleck: I agree\n",
      "))) ... (((\n",
      "0\n",
      "100\n",
      "Can I fly? False\n",
      "Can I fly? True\n"
     ]
    }
   ],
   "source": [
    "# Another class definition\n",
    "# bat.py\n",
    "class Bat:\n",
    "\n",
    "    species = 'Baty'\n",
    "\n",
    "    def __init__(self, can_fly=True):\n",
    "        self.fly = can_fly\n",
    "\n",
    "    # This class also has a say method\n",
    "    def say(self, msg = '... ... ...'):\n",
    "        return msg\n",
    "\n",
    "    # And its own method as well\n",
    "    def sonar(self):\n",
    "        return '))) ... ((('\n",
    "\n",
    "if __name__ == '__main__':\n",
    "    b = Bat()\n",
    "    print(b.say('hello'))\n",
    "    print(b.fly)\n",
    "\n",
    "\n",
    "# And yet another class definition that inherits from Superhero and Bat\n",
    "# superhero.py\n",
    "# from superhero import Superhero\n",
    "# from bat import Bat\n",
    "\n",
    "# Define Batman as a child that inherits from both Superhero and Bat\n",
    "class Batman(Superhero, Bat):\n",
    "\n",
    "    def __init__(self, *args, **kwargs):\n",
    "        # Typically to inherit attributes you have to call super:\n",
    "        # super(Batman, self).__init__(*args, **kwargs)      \n",
    "        # However we are dealing with multiple inheritance here, and super()\n",
    "        # only works with the next base class in the MRO list.\n",
    "        # So instead we explicitly call __init__ for all ancestors.\n",
    "        # The use of *args and **kwargs allows for a clean way to pass arguments,\n",
    "        # with each parent \"peeling a layer of the onion\".\n",
    "        Superhero.__init__(self, 'anonymous', movie=True, \n",
    "                           superpowers=['Wealthy'], *args, **kwargs)\n",
    "        Bat.__init__(self, *args, can_fly=False, **kwargs)\n",
    "        # override the value for the name attribute\n",
    "        self.name = 'Sad Affleck'\n",
    "\n",
    "    def sing(self):\n",
    "        return 'nan nan nan nan nan batman!'\n",
    "\n",
    "\n",
    "if __name__ == '__main__':\n",
    "    sup = Batman()\n",
    "\n",
    "    # Get the Method Resolution search Order used by both getattr() and super().\n",
    "    # This attribute is dynamic and can be updated\n",
    "    print(Batman.__mro__)       # => (<class '__main__.Batman'>, \n",
    "                                # => <class 'superhero.Superhero'>, \n",
    "                                # => <class 'human.Human'>, \n",
    "                                # => <class 'bat.Bat'>, <class 'object'>)\n",
    "\n",
    "    # Calls parent method but uses its own class attribute\n",
    "    print(sup.get_species())    # => Superhuman\n",
    "\n",
    "    # Calls overridden method\n",
    "    print(sup.sing())           # => nan nan nan nan nan batman!\n",
    "\n",
    "    # Calls method from Human, because inheritance order matters\n",
    "    sup.say('I agree')          # => Sad Affleck: I agree\n",
    "\n",
    "    # Call method that exists only in 2nd ancestor\n",
    "    print(sup.sonar())          # => ))) ... (((\n",
    "\n",
    "    # Inherited class attribute\n",
    "    print(sup.age)              # => 0\n",
    "    sup.age = 100\n",
    "    print(sup.age)              # => 100\n",
    "\n",
    "    # Inherited attribute from 2nd ancestor whose default value was overridden.\n",
    "    print('Can I fly? ' + str(sup.fly)) # => Can I fly? False\n",
    "    sup2 = Batman()\n",
    "    sup2.fly=True\n",
    "    print('Can I fly? ' + str(sup2.fly)) # => Can I fly? False\n"
   ]
  },
  {
   "cell_type": "markdown",
   "metadata": {},
   "source": [
    "####################################################\n",
    "## 7. Advanced\n",
    "####################################################"
   ]
  },
  {
   "cell_type": "code",
   "execution_count": 300,
   "metadata": {},
   "outputs": [
    {
     "name": "stdout",
     "output_type": "stream",
     "text": [
      "2\n",
      "4\n",
      "6\n",
      "8\n",
      "10\n",
      "12\n",
      "14\n",
      "16\n",
      "18\n",
      "20\n",
      "22\n",
      "24\n",
      "26\n",
      "28\n",
      "30\n",
      "-1\n",
      "-2\n",
      "-3\n",
      "-4\n",
      "-5\n",
      "[-1, -2, -3, -4, -5]\n",
      "Can you buy me a beer?\n",
      "Can you buy me a beer? Please! I am poor :(\n"
     ]
    }
   ],
   "source": [
    "# Generators help you make lazy code.\n",
    "def double_numbers(iterable):\n",
    "    for i in iterable:\n",
    "        yield i + i\n",
    "\n",
    "# Generators are memory-efficient because they only load the data needed to\n",
    "# process the next value in the iterable. This allows them to perform\n",
    "# operations on otherwise prohibitively large value ranges.\n",
    "# NOTE: `range` replaces `xrange` in Python 3.\n",
    "for i in double_numbers(range(1, 900000000)):  # `range` is a generator.\n",
    "    print(i)\n",
    "    if i >= 30:\n",
    "        break\n",
    "\n",
    "# Just as you can create a list comprehension, you can create generator\n",
    "# comprehensions as well.\n",
    "values = (-x for x in [1,2,3,4,5])\n",
    "for x in values:\n",
    "    print(x)  # prints -1 -2 -3 -4 -5 to console/terminal\n",
    "\n",
    "# You can also cast a generator comprehension directly to a list.\n",
    "values = (-x for x in [1,2,3,4,5])\n",
    "gen_to_list = list(values)\n",
    "print(gen_to_list)  # => [-1, -2, -3, -4, -5]\n",
    "\n",
    "\n",
    "# Decorators\n",
    "# In this example `beg` wraps `say`. If say_please is True then it\n",
    "# will change the returned message.\n",
    "from functools import wraps\n",
    "\n",
    "\n",
    "def beg(target_function):\n",
    "    @wraps(target_function)\n",
    "    def wrapper(*args, **kwargs):\n",
    "        msg, say_please = target_function(*args, **kwargs)\n",
    "        if say_please:\n",
    "            return \"{} {}\".format(msg, \"Please! I am poor :(\")\n",
    "        return msg\n",
    "\n",
    "    return wrapper\n",
    "\n",
    "\n",
    "@beg\n",
    "def say(say_please=False):\n",
    "    msg = \"Can you buy me a beer?\"\n",
    "    return msg, say_please\n",
    "\n",
    "\n",
    "print(say())                 # Can you buy me a beer?\n",
    "print(say(say_please=True))  # Can you buy me a beer? Please! I am poor :("
   ]
  },
  {
   "cell_type": "code",
   "execution_count": null,
   "metadata": {},
   "outputs": [],
   "source": []
  }
 ],
 "metadata": {
  "kernelspec": {
   "display_name": "Python 3",
   "language": "python",
   "name": "python3"
  },
  "language_info": {
   "codemirror_mode": {
    "name": "ipython",
    "version": 3
   },
   "file_extension": ".py",
   "mimetype": "text/x-python",
   "name": "python",
   "nbconvert_exporter": "python",
   "pygments_lexer": "ipython3",
   "version": "3.7.1"
  }
 },
 "nbformat": 4,
 "nbformat_minor": 2
}
